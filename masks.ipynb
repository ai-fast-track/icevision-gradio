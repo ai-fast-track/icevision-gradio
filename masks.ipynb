{
 "metadata": {
  "language_info": {
   "codemirror_mode": {
    "name": "ipython",
    "version": 3
   },
   "file_extension": ".py",
   "mimetype": "text/x-python",
   "name": "python",
   "nbconvert_exporter": "python",
   "pygments_lexer": "ipython3",
   "version": 3
  },
  "orig_nbformat": 2
 },
 "nbformat": 4,
 "nbformat_minor": 2,
 "cells": [
  {
   "cell_type": "code",
   "execution_count": null,
   "metadata": {},
   "outputs": [],
   "source": [
    "from mantisshrimp.all import *\n",
    "import PIL, requests\n",
    "import torch\n",
    "from torchvision import transforms"
   ]
  },
  {
   "cell_type": "code",
   "execution_count": null,
   "metadata": {},
   "outputs": [],
   "source": [
    "MASK_PENNFUNDAN_WEIGHTS_URL = \"https://mantisshrimp-models.s3.us-east-2.amazonaws.com/pennfundan_maskrcnn_resnet50fpn.zip\"\n",
    "# img_url = \"https://raw.githubusercontent.com/ai-fast-track/ice-streamlit/master/images/image2.png\""
   ]
  },
  {
   "cell_type": "code",
   "execution_count": null,
   "metadata": {},
   "outputs": [],
   "source": [
    "def load_model(class_map=class_map, url=None):\n",
    "    if url is None:\n",
    "        # print(\"Please provide a valid URL\")\n",
    "        return None\n",
    "    else:\n",
    "        model = mask_rcnn.model(num_classes=len(class_map))\n",
    "        state_dict = torch.hub.load_state_dict_from_url(\n",
    "            url, map_location=torch.device(\"cpu\")\n",
    "        )\n",
    "        model.load_state_dict(state_dict)\n",
    "        return model"
   ]
  },
  {
   "cell_type": "code",
   "execution_count": null,
   "metadata": {},
   "outputs": [],
   "source": [
    "class_map = datasets.pennfundan.class_map()\n",
    "model = load_model(class_map=class_map, url=MASK_PENNFUNDAN_WEIGHTS_URL)\n",
    "print(\"class_map: \", class_map)"
   ]
  },
  {
   "cell_type": "code",
   "execution_count": null,
   "metadata": {},
   "outputs": [],
   "source": [
    "def predict(\n",
    "    model, image, detection_threshold: float = 0.5, mask_threshold: float = 0.5\n",
    "):\n",
    "    # img = np.array(image)\n",
    "    tfms_ = tfms.A.Adapter([tfms.A.Normalize()])\n",
    "    # Whenever you have images in memory (numpy arrays) you can use `Dataset.from_images`\n",
    "    infer_ds = Dataset.from_images([img], tfms_)\n",
    "\n",
    "    batch, samples = mask_rcnn.build_infer_batch(infer_ds)\n",
    "    preds = mask_rcnn.predict(\n",
    "        model=model,\n",
    "        batch=batch,\n",
    "        detection_threshold=detection_threshold,\n",
    "        mask_threshold=mask_threshold,\n",
    "    )\n",
    "    return samples[0][\"img\"], preds[0]\n",
    "\n",
    "\n",
    "def show_prediction(img, pred, bbox=False, class_map=None):\n",
    "    \"\"\"Returns a PIL image\"\"\"\n",
    "    show_pred(\n",
    "        img=img,\n",
    "        pred=pred,\n",
    "        class_map=class_map,\n",
    "        denormalize_fn=denormalize_imagenet,\n",
    "        show=True,\n",
    "        bbox=bbox,\n",
    "    )\n",
    "\n",
    "    # Grab image from the current matplotlib figure\n",
    "    fig = plt.gcf()\n",
    "    fig.canvas.draw()\n",
    "    fig_arr = np.array(fig.canvas.renderer.buffer_rgba())\n",
    "    img = PIL.Image.fromarray(fig_arr)\n",
    "    return img\n",
    "\n",
    "\n",
    "def get_masks(input_image):\n",
    "    # input_image = PIL.Image.open(io.BytesIO(binary_image)).convert(\"RGB\")\n",
    "    img, pred = predict(model=model, image=input_image)\n",
    "    return show_prediction(img=img, pred=pred, class_map=class_map)"
   ]
  },
  {
   "cell_type": "code",
   "execution_count": null,
   "metadata": {},
   "outputs": [],
   "source": [
    "\n",
    "gr_interface = gr.Interface(fn=get_masks, inputs=gr.inputs.Image(shape=(512, 512)), outputs=\"image\", title='IceVision - Instance Segmentation')\n",
    "gr_interface.launch(inline=False,share=True)"
   ]
  }
 ]
}