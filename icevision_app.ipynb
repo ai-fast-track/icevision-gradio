{
  "nbformat": 4,
  "nbformat_minor": 0,
  "metadata": {
    "orig_nbformat": 2,
    "colab": {
      "name": "icevision_app.ipynb",
      "provenance": [],
      "collapsed_sections": [],
      "include_colab_link": true
    },
    "kernelspec": {
      "name": "python3",
      "display_name": "Python 3"
    }
  },
  "cells": [
    {
      "cell_type": "markdown",
      "metadata": {
        "id": "view-in-github",
        "colab_type": "text"
      },
      "source": [
        "<a href=\"https://colab.research.google.com/github/ai-fast-track/icevision-gradio/blob/master/icevision_app.ipynb\" target=\"_parent\"><img src=\"https://colab.research.google.com/assets/colab-badge.svg\" alt=\"Open In Colab\"/></a>"
      ]
    },
    {
      "cell_type": "code",
      "metadata": {
        "id": "pXYneBY9HKCe",
        "colab_type": "code",
        "colab": {
          "base_uri": "https://localhost:8080/",
          "height": 1000
        },
        "outputId": "bfa47809-dd7a-4c35-d3f8-83722d965e36"
      },
      "source": [
        "pip install git+git://github.com/airctic/mantisshrimp.git#egg=mantisshrimp[inference] --upgrade"
      ],
      "execution_count": 1,
      "outputs": [
        {
          "output_type": "stream",
          "text": [
            "Collecting mantisshrimp[inference]\n",
            "  Cloning git://github.com/airctic/mantisshrimp.git to /tmp/pip-install-b7hxnuiw/mantisshrimp\n",
            "  Running command git clone -q git://github.com/airctic/mantisshrimp.git /tmp/pip-install-b7hxnuiw/mantisshrimp\n",
            "  Running command git submodule update --init --recursive -q\n",
            "Collecting fastcore<0.1.33\n",
            "  Downloading https://files.pythonhosted.org/packages/b0/95/def03028ab711bc1add394b82716ccd04ee8971d60fa87568a8bbf9190d0/fastcore-0.1.32-py3-none-any.whl\n",
            "Requirement already satisfied, skipping upgrade: tqdm in /usr/local/lib/python3.6/dist-packages (from mantisshrimp[inference]) (4.41.1)\n",
            "Requirement already satisfied, skipping upgrade: matplotlib in /usr/local/lib/python3.6/dist-packages (from mantisshrimp[inference]) (3.2.2)\n",
            "Requirement already satisfied, skipping upgrade: opencv-python in /usr/local/lib/python3.6/dist-packages (from mantisshrimp[inference]) (4.1.2.30)\n",
            "Requirement already satisfied, skipping upgrade: requests in /usr/local/lib/python3.6/dist-packages (from mantisshrimp[inference]) (2.23.0)\n",
            "Collecting albumentations>=0.4.5\n",
            "\u001b[?25l  Downloading https://files.pythonhosted.org/packages/92/33/1c459c2c9a4028ec75527eff88bc4e2d256555189f42af4baf4d7bd89233/albumentations-0.4.6.tar.gz (117kB)\n",
            "\u001b[K     |████████████████████████████████| 122kB 10.3MB/s \n",
            "\u001b[?25hRequirement already satisfied, skipping upgrade: torch>=1.6 in /usr/local/lib/python3.6/dist-packages (from mantisshrimp[inference]) (1.6.0+cu101)\n",
            "Requirement already satisfied, skipping upgrade: torchvision>=0.7 in /usr/local/lib/python3.6/dist-packages (from mantisshrimp[inference]) (0.7.0+cu101)\n",
            "Requirement already satisfied, skipping upgrade: pycocotools@ https://github.com/lgvaz/cocoapi/archive/master.zip#subdirectory=PythonAPI&egg=pycocotools-2.0 from https://github.com/lgvaz/cocoapi/archive/master.zip#subdirectory=PythonAPI&egg=pycocotools-2.0 in /usr/local/lib/python3.6/dist-packages (from mantisshrimp[inference]) (2.0.1)\n",
            "Collecting omegaconf\n",
            "  Downloading https://files.pythonhosted.org/packages/86/ec/605805e60abdb025b06664d107335031bb8ebdc52e0a90bdbad6a7130279/omegaconf-2.0.1-py3-none-any.whl\n",
            "Collecting effdet@ https://github.com/rwightman/efficientdet-pytorch/archive/master.zip#egg=effdet-0.1.4\n",
            "\u001b[?25l  Downloading https://github.com/rwightman/efficientdet-pytorch/archive/master.zip\n",
            "\u001b[K     - 337kB 10.7MB/s\n",
            "\u001b[?25hRequirement already satisfied, skipping upgrade: packaging in /usr/local/lib/python3.6/dist-packages (from fastcore<0.1.33->mantisshrimp[inference]) (20.4)\n",
            "Requirement already satisfied, skipping upgrade: dataclasses in /usr/local/lib/python3.6/dist-packages (from fastcore<0.1.33->mantisshrimp[inference]) (0.7)\n",
            "Requirement already satisfied, skipping upgrade: pip in /usr/local/lib/python3.6/dist-packages (from fastcore<0.1.33->mantisshrimp[inference]) (19.3.1)\n",
            "Requirement already satisfied, skipping upgrade: numpy in /usr/local/lib/python3.6/dist-packages (from fastcore<0.1.33->mantisshrimp[inference]) (1.18.5)\n",
            "Requirement already satisfied, skipping upgrade: python-dateutil>=2.1 in /usr/local/lib/python3.6/dist-packages (from matplotlib->mantisshrimp[inference]) (2.8.1)\n",
            "Requirement already satisfied, skipping upgrade: cycler>=0.10 in /usr/local/lib/python3.6/dist-packages (from matplotlib->mantisshrimp[inference]) (0.10.0)\n",
            "Requirement already satisfied, skipping upgrade: pyparsing!=2.0.4,!=2.1.2,!=2.1.6,>=2.0.1 in /usr/local/lib/python3.6/dist-packages (from matplotlib->mantisshrimp[inference]) (2.4.7)\n",
            "Requirement already satisfied, skipping upgrade: kiwisolver>=1.0.1 in /usr/local/lib/python3.6/dist-packages (from matplotlib->mantisshrimp[inference]) (1.2.0)\n",
            "Requirement already satisfied, skipping upgrade: idna<3,>=2.5 in /usr/local/lib/python3.6/dist-packages (from requests->mantisshrimp[inference]) (2.10)\n",
            "Requirement already satisfied, skipping upgrade: urllib3!=1.25.0,!=1.25.1,<1.26,>=1.21.1 in /usr/local/lib/python3.6/dist-packages (from requests->mantisshrimp[inference]) (1.24.3)\n",
            "Requirement already satisfied, skipping upgrade: certifi>=2017.4.17 in /usr/local/lib/python3.6/dist-packages (from requests->mantisshrimp[inference]) (2020.6.20)\n",
            "Requirement already satisfied, skipping upgrade: chardet<4,>=3.0.2 in /usr/local/lib/python3.6/dist-packages (from requests->mantisshrimp[inference]) (3.0.4)\n",
            "Requirement already satisfied, skipping upgrade: scipy in /usr/local/lib/python3.6/dist-packages (from albumentations>=0.4.5->mantisshrimp[inference]) (1.4.1)\n",
            "Collecting imgaug>=0.4.0\n",
            "\u001b[?25l  Downloading https://files.pythonhosted.org/packages/66/b1/af3142c4a85cba6da9f4ebb5ff4e21e2616309552caca5e8acefe9840622/imgaug-0.4.0-py2.py3-none-any.whl (948kB)\n",
            "\u001b[K     |████████████████████████████████| 952kB 28.5MB/s \n",
            "\u001b[?25hRequirement already satisfied, skipping upgrade: PyYAML in /usr/local/lib/python3.6/dist-packages (from albumentations>=0.4.5->mantisshrimp[inference]) (3.13)\n",
            "Requirement already satisfied, skipping upgrade: future in /usr/local/lib/python3.6/dist-packages (from torch>=1.6->mantisshrimp[inference]) (0.16.0)\n",
            "Requirement already satisfied, skipping upgrade: pillow>=4.1.1 in /usr/local/lib/python3.6/dist-packages (from torchvision>=0.7->mantisshrimp[inference]) (7.0.0)\n",
            "Requirement already satisfied, skipping upgrade: cython>=0.27.3 in /usr/local/lib/python3.6/dist-packages (from pycocotools@ https://github.com/lgvaz/cocoapi/archive/master.zip#subdirectory=PythonAPI&egg=pycocotools-2.0->mantisshrimp[inference]) (0.29.21)\n",
            "Requirement already satisfied, skipping upgrade: setuptools>=18.0 in /usr/local/lib/python3.6/dist-packages (from pycocotools@ https://github.com/lgvaz/cocoapi/archive/master.zip#subdirectory=PythonAPI&egg=pycocotools-2.0->mantisshrimp[inference]) (49.6.0)\n",
            "Requirement already satisfied, skipping upgrade: typing-extensions in /usr/local/lib/python3.6/dist-packages (from omegaconf->mantisshrimp[inference]) (3.7.4.3)\n",
            "Collecting timm>=0.1.28\n",
            "\u001b[?25l  Downloading https://files.pythonhosted.org/packages/26/42/6a0f5dcb5925532cc40dc5a7f8405bdbee597af36e782ed035b14fcc0946/timm-0.2.1-py3-none-any.whl (225kB)\n",
            "\u001b[K     |████████████████████████████████| 225kB 33.3MB/s \n",
            "\u001b[?25hRequirement already satisfied, skipping upgrade: six in /usr/local/lib/python3.6/dist-packages (from packaging->fastcore<0.1.33->mantisshrimp[inference]) (1.15.0)\n",
            "Requirement already satisfied, skipping upgrade: scikit-image>=0.14.2 in /usr/local/lib/python3.6/dist-packages (from imgaug>=0.4.0->albumentations>=0.4.5->mantisshrimp[inference]) (0.16.2)\n",
            "Requirement already satisfied, skipping upgrade: Shapely in /usr/local/lib/python3.6/dist-packages (from imgaug>=0.4.0->albumentations>=0.4.5->mantisshrimp[inference]) (1.7.1)\n",
            "Requirement already satisfied, skipping upgrade: imageio in /usr/local/lib/python3.6/dist-packages (from imgaug>=0.4.0->albumentations>=0.4.5->mantisshrimp[inference]) (2.4.1)\n",
            "Requirement already satisfied, skipping upgrade: networkx>=2.0 in /usr/local/lib/python3.6/dist-packages (from scikit-image>=0.14.2->imgaug>=0.4.0->albumentations>=0.4.5->mantisshrimp[inference]) (2.5)\n",
            "Requirement already satisfied, skipping upgrade: PyWavelets>=0.4.0 in /usr/local/lib/python3.6/dist-packages (from scikit-image>=0.14.2->imgaug>=0.4.0->albumentations>=0.4.5->mantisshrimp[inference]) (1.1.1)\n",
            "Requirement already satisfied, skipping upgrade: decorator>=4.3.0 in /usr/local/lib/python3.6/dist-packages (from networkx>=2.0->scikit-image>=0.14.2->imgaug>=0.4.0->albumentations>=0.4.5->mantisshrimp[inference]) (4.4.2)\n",
            "Building wheels for collected packages: mantisshrimp, albumentations, effdet\n",
            "  Building wheel for mantisshrimp (setup.py) ... \u001b[?25l\u001b[?25hdone\n",
            "  Created wheel for mantisshrimp: filename=mantisshrimp-0.0.9rc1-cp36-none-any.whl size=116192 sha256=16b4c0612f237869d58bef8671f71a2edfd6cd8f54959bc91cb5b5acca415e66\n",
            "  Stored in directory: /tmp/pip-ephem-wheel-cache-c8a14tqi/wheels/f2/de/15/b479b63a90d19b1b6b5f6011eac5da5aa8fd30858d708899a0\n",
            "  Building wheel for albumentations (setup.py) ... \u001b[?25l\u001b[?25hdone\n",
            "  Created wheel for albumentations: filename=albumentations-0.4.6-cp36-none-any.whl size=65165 sha256=f63c0e88f4c5bf18349cf198d723b9de434165d0797aa2fee71fcb24a234c890\n",
            "  Stored in directory: /root/.cache/pip/wheels/c7/f4/89/56d1bee5c421c36c1a951eeb4adcc32fbb82f5344c086efa14\n",
            "  Building wheel for effdet (setup.py) ... \u001b[?25l\u001b[?25hdone\n",
            "  Created wheel for effdet: filename=effdet-0.1.4-cp36-none-any.whl size=53714 sha256=fda401c24d49eb74325b629ec03dd8181d4fcf3f840d53ca51ccba932b8e33d5\n",
            "  Stored in directory: /tmp/pip-ephem-wheel-cache-c8a14tqi/wheels/d5/9a/5d/ce426f81e470d2dba4930d1fa0f4740d49b7066f1630b1fa69\n",
            "Successfully built mantisshrimp albumentations effdet\n",
            "\u001b[31mERROR: omegaconf 2.0.1 has requirement PyYAML>=5.1.*, but you'll have pyyaml 3.13 which is incompatible.\u001b[0m\n",
            "Installing collected packages: fastcore, imgaug, albumentations, omegaconf, timm, effdet, mantisshrimp\n",
            "  Found existing installation: imgaug 0.2.9\n",
            "    Uninstalling imgaug-0.2.9:\n",
            "      Successfully uninstalled imgaug-0.2.9\n",
            "  Found existing installation: albumentations 0.1.12\n",
            "    Uninstalling albumentations-0.1.12:\n",
            "      Successfully uninstalled albumentations-0.1.12\n",
            "Successfully installed albumentations-0.4.6 effdet-0.1.4 fastcore-0.1.32 imgaug-0.4.0 mantisshrimp-0.0.9rc1 omegaconf-2.0.1 timm-0.2.1\n"
          ],
          "name": "stdout"
        }
      ]
    },
    {
      "cell_type": "code",
      "metadata": {
        "id": "jGaD1jw0H9Tj",
        "colab_type": "code",
        "colab": {
          "base_uri": "https://localhost:8080/",
          "height": 907
        },
        "outputId": "2b91dd65-ad39-4e4f-9ab5-756cf82916fb"
      },
      "source": [
        "pip install gradio"
      ],
      "execution_count": 2,
      "outputs": [
        {
          "output_type": "stream",
          "text": [
            "Collecting gradio\n",
            "\u001b[?25l  Downloading https://files.pythonhosted.org/packages/67/a6/ff5f8899442f22215b81cd384af02713b946757a335d640edae272b58b8f/gradio-1.1.9-py3-none-any.whl (997kB)\n",
            "\u001b[K     |████████████████████████████████| 1.0MB 4.8MB/s \n",
            "\u001b[?25hRequirement already satisfied: scipy in /usr/local/lib/python3.6/dist-packages (from gradio) (1.4.1)\n",
            "Collecting paramiko\n",
            "\u001b[?25l  Downloading https://files.pythonhosted.org/packages/95/19/124e9287b43e6ff3ebb9cdea3e5e8e88475a873c05ccdf8b7e20d2c4201e/paramiko-2.7.2-py2.py3-none-any.whl (206kB)\n",
            "\u001b[K     |████████████████████████████████| 215kB 26.7MB/s \n",
            "\u001b[?25hRequirement already satisfied: IPython in /usr/local/lib/python3.6/dist-packages (from gradio) (5.5.0)\n",
            "Collecting analytics-python\n",
            "  Downloading https://files.pythonhosted.org/packages/d3/37/c49d052f88655cd96445c36979fb63f69ef859e167eaff5706ca7c8a8ee3/analytics_python-1.2.9-py2.py3-none-any.whl\n",
            "Requirement already satisfied: pandas in /usr/local/lib/python3.6/dist-packages (from gradio) (1.0.5)\n",
            "Requirement already satisfied: numpy in /usr/local/lib/python3.6/dist-packages (from gradio) (1.18.5)\n",
            "Requirement already satisfied: scikit-image in /usr/local/lib/python3.6/dist-packages (from gradio) (0.16.2)\n",
            "Requirement already satisfied: requests in /usr/local/lib/python3.6/dist-packages (from gradio) (2.23.0)\n",
            "Collecting cryptography>=2.5\n",
            "\u001b[?25l  Downloading https://files.pythonhosted.org/packages/c0/9c/647e559a6e8be493dc2a7a5d15d26cb501ca60ec299b356f23839a673a83/cryptography-3.1-cp35-abi3-manylinux2010_x86_64.whl (2.6MB)\n",
            "\u001b[K     |████████████████████████████████| 2.6MB 18.8MB/s \n",
            "\u001b[?25hCollecting bcrypt>=3.1.3\n",
            "\u001b[?25l  Downloading https://files.pythonhosted.org/packages/26/70/6d218afbe4c73538053c1016dd631e8f25fffc10cd01f5c272d7acf3c03d/bcrypt-3.2.0-cp36-abi3-manylinux2010_x86_64.whl (63kB)\n",
            "\u001b[K     |████████████████████████████████| 71kB 7.5MB/s \n",
            "\u001b[?25hCollecting pynacl>=1.0.1\n",
            "\u001b[?25l  Downloading https://files.pythonhosted.org/packages/9d/57/2f5e6226a674b2bcb6db531e8b383079b678df5b10cdaa610d6cf20d77ba/PyNaCl-1.4.0-cp35-abi3-manylinux1_x86_64.whl (961kB)\n",
            "\u001b[K     |████████████████████████████████| 962kB 45.5MB/s \n",
            "\u001b[?25hRequirement already satisfied: pygments in /usr/local/lib/python3.6/dist-packages (from IPython->gradio) (2.1.3)\n",
            "Requirement already satisfied: simplegeneric>0.8 in /usr/local/lib/python3.6/dist-packages (from IPython->gradio) (0.8.1)\n",
            "Requirement already satisfied: setuptools>=18.5 in /usr/local/lib/python3.6/dist-packages (from IPython->gradio) (49.6.0)\n",
            "Requirement already satisfied: pexpect; sys_platform != \"win32\" in /usr/local/lib/python3.6/dist-packages (from IPython->gradio) (4.8.0)\n",
            "Requirement already satisfied: decorator in /usr/local/lib/python3.6/dist-packages (from IPython->gradio) (4.4.2)\n",
            "Requirement already satisfied: prompt-toolkit<2.0.0,>=1.0.4 in /usr/local/lib/python3.6/dist-packages (from IPython->gradio) (1.0.18)\n",
            "Requirement already satisfied: traitlets>=4.2 in /usr/local/lib/python3.6/dist-packages (from IPython->gradio) (4.3.3)\n",
            "Requirement already satisfied: pickleshare in /usr/local/lib/python3.6/dist-packages (from IPython->gradio) (0.7.5)\n",
            "Requirement already satisfied: python-dateutil>2.1 in /usr/local/lib/python3.6/dist-packages (from analytics-python->gradio) (2.8.1)\n",
            "Requirement already satisfied: six>=1.5 in /usr/local/lib/python3.6/dist-packages (from analytics-python->gradio) (1.15.0)\n",
            "Requirement already satisfied: pytz>=2017.2 in /usr/local/lib/python3.6/dist-packages (from pandas->gradio) (2018.9)\n",
            "Requirement already satisfied: matplotlib!=3.0.0,>=2.0.0 in /usr/local/lib/python3.6/dist-packages (from scikit-image->gradio) (3.2.2)\n",
            "Requirement already satisfied: networkx>=2.0 in /usr/local/lib/python3.6/dist-packages (from scikit-image->gradio) (2.5)\n",
            "Requirement already satisfied: imageio>=2.3.0 in /usr/local/lib/python3.6/dist-packages (from scikit-image->gradio) (2.4.1)\n",
            "Requirement already satisfied: PyWavelets>=0.4.0 in /usr/local/lib/python3.6/dist-packages (from scikit-image->gradio) (1.1.1)\n",
            "Requirement already satisfied: pillow>=4.3.0 in /usr/local/lib/python3.6/dist-packages (from scikit-image->gradio) (7.0.0)\n",
            "Requirement already satisfied: urllib3!=1.25.0,!=1.25.1,<1.26,>=1.21.1 in /usr/local/lib/python3.6/dist-packages (from requests->gradio) (1.24.3)\n",
            "Requirement already satisfied: idna<3,>=2.5 in /usr/local/lib/python3.6/dist-packages (from requests->gradio) (2.10)\n",
            "Requirement already satisfied: chardet<4,>=3.0.2 in /usr/local/lib/python3.6/dist-packages (from requests->gradio) (3.0.4)\n",
            "Requirement already satisfied: certifi>=2017.4.17 in /usr/local/lib/python3.6/dist-packages (from requests->gradio) (2020.6.20)\n",
            "Requirement already satisfied: cffi!=1.11.3,>=1.8 in /usr/local/lib/python3.6/dist-packages (from cryptography>=2.5->paramiko->gradio) (1.14.2)\n",
            "Requirement already satisfied: ptyprocess>=0.5 in /usr/local/lib/python3.6/dist-packages (from pexpect; sys_platform != \"win32\"->IPython->gradio) (0.6.0)\n",
            "Requirement already satisfied: wcwidth in /usr/local/lib/python3.6/dist-packages (from prompt-toolkit<2.0.0,>=1.0.4->IPython->gradio) (0.2.5)\n",
            "Requirement already satisfied: ipython-genutils in /usr/local/lib/python3.6/dist-packages (from traitlets>=4.2->IPython->gradio) (0.2.0)\n",
            "Requirement already satisfied: cycler>=0.10 in /usr/local/lib/python3.6/dist-packages (from matplotlib!=3.0.0,>=2.0.0->scikit-image->gradio) (0.10.0)\n",
            "Requirement already satisfied: kiwisolver>=1.0.1 in /usr/local/lib/python3.6/dist-packages (from matplotlib!=3.0.0,>=2.0.0->scikit-image->gradio) (1.2.0)\n",
            "Requirement already satisfied: pyparsing!=2.0.4,!=2.1.2,!=2.1.6,>=2.0.1 in /usr/local/lib/python3.6/dist-packages (from matplotlib!=3.0.0,>=2.0.0->scikit-image->gradio) (2.4.7)\n",
            "Requirement already satisfied: pycparser in /usr/local/lib/python3.6/dist-packages (from cffi!=1.11.3,>=1.8->cryptography>=2.5->paramiko->gradio) (2.20)\n",
            "Installing collected packages: cryptography, bcrypt, pynacl, paramiko, analytics-python, gradio\n",
            "Successfully installed analytics-python-1.2.9 bcrypt-3.2.0 cryptography-3.1 gradio-1.1.9 paramiko-2.7.2 pynacl-1.4.0\n"
          ],
          "name": "stdout"
        }
      ]
    },
    {
      "cell_type": "code",
      "metadata": {
        "id": "2PDsjGDbHBZY",
        "colab_type": "code",
        "colab": {}
      },
      "source": [
        "from mantisshrimp.all import *\n",
        "import PIL, requests\n",
        "import torch\n",
        "from torchvision import transforms\n",
        "import gradio as gr"
      ],
      "execution_count": 3,
      "outputs": []
    },
    {
      "cell_type": "code",
      "metadata": {
        "id": "1AstBZCMHBZe",
        "colab_type": "code",
        "colab": {}
      },
      "source": [
        "MASK_PENNFUNDAN_WEIGHTS_URL = \"https://mantisshrimp-models.s3.us-east-2.amazonaws.com/pennfundan_maskrcnn_resnet50fpn.zip\"\n",
        "# img_url = \"https://raw.githubusercontent.com/ai-fast-track/ice-streamlit/master/images/image2.png\""
      ],
      "execution_count": 4,
      "outputs": []
    },
    {
      "cell_type": "code",
      "metadata": {
        "id": "0i0d7lnGHBZh",
        "colab_type": "code",
        "colab": {}
      },
      "source": [
        "def load_model(class_map=class_map, url=None):\n",
        "    if url is None:\n",
        "        # print(\"Please provide a valid URL\")\n",
        "        return None\n",
        "    else:\n",
        "        model = mask_rcnn.model(num_classes=len(class_map))\n",
        "        state_dict = torch.hub.load_state_dict_from_url(\n",
        "            url, map_location=torch.device(\"cpu\")\n",
        "        )\n",
        "        model.load_state_dict(state_dict)\n",
        "        return model"
      ],
      "execution_count": 5,
      "outputs": []
    },
    {
      "cell_type": "code",
      "metadata": {
        "id": "9uPev7wiHBZl",
        "colab_type": "code",
        "colab": {
          "base_uri": "https://localhost:8080/",
          "height": 34
        },
        "outputId": "2b65ec4a-287c-4134-8729-f5b1163cab30"
      },
      "source": [
        "class_map = datasets.pennfundan.class_map()\n",
        "model = load_model(class_map=class_map, url=MASK_PENNFUNDAN_WEIGHTS_URL)\n",
        "print(\"class_map: \", class_map)"
      ],
      "execution_count": 7,
      "outputs": [
        {
          "output_type": "stream",
          "text": [
            "class_map:  <ClassMap: {'background': 0, 'person': 1}>\n"
          ],
          "name": "stdout"
        }
      ]
    },
    {
      "cell_type": "code",
      "metadata": {
        "id": "jIzikSZLHBZo",
        "colab_type": "code",
        "colab": {}
      },
      "source": [
        "def predict(\n",
        "    model, image, detection_threshold: float = 0.5, mask_threshold: float = 0.5\n",
        "):\n",
        "    # img = np.array(image)\n",
        "    tfms_ = tfms.A.Adapter([tfms.A.Normalize()])\n",
        "    # Whenever you have images in memory (numpy arrays) you can use `Dataset.from_images`\n",
        "    infer_ds = Dataset.from_images([image], tfms_)\n",
        "\n",
        "    batch, samples = mask_rcnn.build_infer_batch(infer_ds)\n",
        "    preds = mask_rcnn.predict(\n",
        "        model=model,\n",
        "        batch=batch,\n",
        "        detection_threshold=detection_threshold,\n",
        "        mask_threshold=mask_threshold,\n",
        "    )\n",
        "    return samples[0][\"img\"], preds[0]\n",
        "\n",
        "def get_masks(input_image):\n",
        "    img, pred = predict(model=model, image=input_image)\n",
        "    # print(pred)\n",
        "    img = draw_pred(img=img, pred=pred, class_map=class_map, denormalize_fn=denormalize_imagenet)\n",
        "    img = PIL.Image.fromarray(img)\n",
        "    print(\"Output Image: \", img.size, type(img))\n",
        "    return img"
      ],
      "execution_count": 18,
      "outputs": []
    },
    {
      "cell_type": "code",
      "metadata": {
        "id": "_tGwcfYUHBZr",
        "colab_type": "code",
        "colab": {
          "base_uri": "https://localhost:8080/",
          "height": 101
        },
        "outputId": "3e412765-dfe6-4050-d0a9-10682855cb35"
      },
      "source": [
        "outputs = gr.outputs.Image(type=\"pil\")\n",
        "gr_interface = gr.Interface(fn=get_masks, inputs=\"image\", outputs=outputs, title='IceVision - Ice Simple')\n",
        "gr_interface.launch(inline=False, share=True, debug=True)"
      ],
      "execution_count": null,
      "outputs": [
        {
          "output_type": "stream",
          "text": [
            "Colab notebook detected. This cell will run indefinitely so that you can see errors and logs. To turn off, set debug=False in launch().\n",
            "This share link will expire in 6 hours. If you need a permanent link, email support@gradio.app\n",
            "Running on External URL: https://31671.gradio.app\n",
            "Output Image:  (800, 535) <class 'PIL.Image.Image'>\n",
            "Output Image:  (600, 400) <class 'PIL.Image.Image'>\n"
          ],
          "name": "stdout"
        }
      ]
    },
    {
      "cell_type": "code",
      "metadata": {
        "id": "bvCoyr4mH6JJ",
        "colab_type": "code",
        "colab": {}
      },
      "source": [
        ""
      ],
      "execution_count": null,
      "outputs": []
    }
  ]
}