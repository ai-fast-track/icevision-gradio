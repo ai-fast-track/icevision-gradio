{
  "nbformat": 4,
  "nbformat_minor": 0,
  "metadata": {
    "orig_nbformat": 2,
    "colab": {
      "name": "IceApp_pets.ipynb",
      "provenance": [],
      "collapsed_sections": [],
      "include_colab_link": true
    },
    "kernelspec": {
      "name": "python3",
      "display_name": "Python 3"
    },
    "widgets": {
      "application/vnd.jupyter.widget-state+json": {
        "4756bc3630f747eaaef662f08f55b324": {
          "model_module": "@jupyter-widgets/controls",
          "model_name": "HBoxModel",
          "state": {
            "_view_name": "HBoxView",
            "_dom_classes": [],
            "_model_name": "HBoxModel",
            "_view_module": "@jupyter-widgets/controls",
            "_model_module_version": "1.5.0",
            "_view_count": null,
            "_view_module_version": "1.5.0",
            "box_style": "",
            "layout": "IPY_MODEL_3351c942151c4551a17d2e0571e66f10",
            "_model_module": "@jupyter-widgets/controls",
            "children": [
              "IPY_MODEL_cf3a8dafece740eeac9a5d61f99a221e",
              "IPY_MODEL_d94003b18f83427493f6dc7ac4c71e29"
            ]
          }
        },
        "3351c942151c4551a17d2e0571e66f10": {
          "model_module": "@jupyter-widgets/base",
          "model_name": "LayoutModel",
          "state": {
            "_view_name": "LayoutView",
            "grid_template_rows": null,
            "right": null,
            "justify_content": null,
            "_view_module": "@jupyter-widgets/base",
            "overflow": null,
            "_model_module_version": "1.2.0",
            "_view_count": null,
            "flex_flow": null,
            "width": null,
            "min_width": null,
            "border": null,
            "align_items": null,
            "bottom": null,
            "_model_module": "@jupyter-widgets/base",
            "top": null,
            "grid_column": null,
            "overflow_y": null,
            "overflow_x": null,
            "grid_auto_flow": null,
            "grid_area": null,
            "grid_template_columns": null,
            "flex": null,
            "_model_name": "LayoutModel",
            "justify_items": null,
            "grid_row": null,
            "max_height": null,
            "align_content": null,
            "visibility": null,
            "align_self": null,
            "height": null,
            "min_height": null,
            "padding": null,
            "grid_auto_rows": null,
            "grid_gap": null,
            "max_width": null,
            "order": null,
            "_view_module_version": "1.2.0",
            "grid_template_areas": null,
            "object_position": null,
            "object_fit": null,
            "grid_auto_columns": null,
            "margin": null,
            "display": null,
            "left": null
          }
        },
        "cf3a8dafece740eeac9a5d61f99a221e": {
          "model_module": "@jupyter-widgets/controls",
          "model_name": "FloatProgressModel",
          "state": {
            "_view_name": "ProgressView",
            "style": "IPY_MODEL_0b2625d3e3bc486a91cbe7be5f92b980",
            "_dom_classes": [],
            "description": "100%",
            "_model_name": "FloatProgressModel",
            "bar_style": "success",
            "max": 167502836,
            "_view_module": "@jupyter-widgets/controls",
            "_model_module_version": "1.5.0",
            "value": 167502836,
            "_view_count": null,
            "_view_module_version": "1.5.0",
            "orientation": "horizontal",
            "min": 0,
            "description_tooltip": null,
            "_model_module": "@jupyter-widgets/controls",
            "layout": "IPY_MODEL_0fecbda9394e494ea062349de20e0c77"
          }
        },
        "d94003b18f83427493f6dc7ac4c71e29": {
          "model_module": "@jupyter-widgets/controls",
          "model_name": "HTMLModel",
          "state": {
            "_view_name": "HTMLView",
            "style": "IPY_MODEL_72264781b93f437186043a332d18651f",
            "_dom_classes": [],
            "description": "",
            "_model_name": "HTMLModel",
            "placeholder": "​",
            "_view_module": "@jupyter-widgets/controls",
            "_model_module_version": "1.5.0",
            "value": " 160M/160M [00:01&lt;00:00, 105MB/s]",
            "_view_count": null,
            "_view_module_version": "1.5.0",
            "description_tooltip": null,
            "_model_module": "@jupyter-widgets/controls",
            "layout": "IPY_MODEL_e9a64a6ae2c54748ba469a27a1a8f3b3"
          }
        },
        "0b2625d3e3bc486a91cbe7be5f92b980": {
          "model_module": "@jupyter-widgets/controls",
          "model_name": "ProgressStyleModel",
          "state": {
            "_view_name": "StyleView",
            "_model_name": "ProgressStyleModel",
            "description_width": "initial",
            "_view_module": "@jupyter-widgets/base",
            "_model_module_version": "1.5.0",
            "_view_count": null,
            "_view_module_version": "1.2.0",
            "bar_color": null,
            "_model_module": "@jupyter-widgets/controls"
          }
        },
        "0fecbda9394e494ea062349de20e0c77": {
          "model_module": "@jupyter-widgets/base",
          "model_name": "LayoutModel",
          "state": {
            "_view_name": "LayoutView",
            "grid_template_rows": null,
            "right": null,
            "justify_content": null,
            "_view_module": "@jupyter-widgets/base",
            "overflow": null,
            "_model_module_version": "1.2.0",
            "_view_count": null,
            "flex_flow": null,
            "width": null,
            "min_width": null,
            "border": null,
            "align_items": null,
            "bottom": null,
            "_model_module": "@jupyter-widgets/base",
            "top": null,
            "grid_column": null,
            "overflow_y": null,
            "overflow_x": null,
            "grid_auto_flow": null,
            "grid_area": null,
            "grid_template_columns": null,
            "flex": null,
            "_model_name": "LayoutModel",
            "justify_items": null,
            "grid_row": null,
            "max_height": null,
            "align_content": null,
            "visibility": null,
            "align_self": null,
            "height": null,
            "min_height": null,
            "padding": null,
            "grid_auto_rows": null,
            "grid_gap": null,
            "max_width": null,
            "order": null,
            "_view_module_version": "1.2.0",
            "grid_template_areas": null,
            "object_position": null,
            "object_fit": null,
            "grid_auto_columns": null,
            "margin": null,
            "display": null,
            "left": null
          }
        },
        "72264781b93f437186043a332d18651f": {
          "model_module": "@jupyter-widgets/controls",
          "model_name": "DescriptionStyleModel",
          "state": {
            "_view_name": "StyleView",
            "_model_name": "DescriptionStyleModel",
            "description_width": "",
            "_view_module": "@jupyter-widgets/base",
            "_model_module_version": "1.5.0",
            "_view_count": null,
            "_view_module_version": "1.2.0",
            "_model_module": "@jupyter-widgets/controls"
          }
        },
        "e9a64a6ae2c54748ba469a27a1a8f3b3": {
          "model_module": "@jupyter-widgets/base",
          "model_name": "LayoutModel",
          "state": {
            "_view_name": "LayoutView",
            "grid_template_rows": null,
            "right": null,
            "justify_content": null,
            "_view_module": "@jupyter-widgets/base",
            "overflow": null,
            "_model_module_version": "1.2.0",
            "_view_count": null,
            "flex_flow": null,
            "width": null,
            "min_width": null,
            "border": null,
            "align_items": null,
            "bottom": null,
            "_model_module": "@jupyter-widgets/base",
            "top": null,
            "grid_column": null,
            "overflow_y": null,
            "overflow_x": null,
            "grid_auto_flow": null,
            "grid_area": null,
            "grid_template_columns": null,
            "flex": null,
            "_model_name": "LayoutModel",
            "justify_items": null,
            "grid_row": null,
            "max_height": null,
            "align_content": null,
            "visibility": null,
            "align_self": null,
            "height": null,
            "min_height": null,
            "padding": null,
            "grid_auto_rows": null,
            "grid_gap": null,
            "max_width": null,
            "order": null,
            "_view_module_version": "1.2.0",
            "grid_template_areas": null,
            "object_position": null,
            "object_fit": null,
            "grid_auto_columns": null,
            "margin": null,
            "display": null,
            "left": null
          }
        },
        "a100239eed234a638cfe304cd37dc4cf": {
          "model_module": "@jupyter-widgets/controls",
          "model_name": "HBoxModel",
          "state": {
            "_view_name": "HBoxView",
            "_dom_classes": [],
            "_model_name": "HBoxModel",
            "_view_module": "@jupyter-widgets/controls",
            "_model_module_version": "1.5.0",
            "_view_count": null,
            "_view_module_version": "1.5.0",
            "box_style": "",
            "layout": "IPY_MODEL_a3c4537e3c0146f08f7002ebefe693d7",
            "_model_module": "@jupyter-widgets/controls",
            "children": [
              "IPY_MODEL_807625a1a42e4c7db2ac8fa8b874b45a",
              "IPY_MODEL_1ad8dd2f688947bfbe7e7f22a4578b5b"
            ]
          }
        },
        "a3c4537e3c0146f08f7002ebefe693d7": {
          "model_module": "@jupyter-widgets/base",
          "model_name": "LayoutModel",
          "state": {
            "_view_name": "LayoutView",
            "grid_template_rows": null,
            "right": null,
            "justify_content": null,
            "_view_module": "@jupyter-widgets/base",
            "overflow": null,
            "_model_module_version": "1.2.0",
            "_view_count": null,
            "flex_flow": null,
            "width": null,
            "min_width": null,
            "border": null,
            "align_items": null,
            "bottom": null,
            "_model_module": "@jupyter-widgets/base",
            "top": null,
            "grid_column": null,
            "overflow_y": null,
            "overflow_x": null,
            "grid_auto_flow": null,
            "grid_area": null,
            "grid_template_columns": null,
            "flex": null,
            "_model_name": "LayoutModel",
            "justify_items": null,
            "grid_row": null,
            "max_height": null,
            "align_content": null,
            "visibility": null,
            "align_self": null,
            "height": null,
            "min_height": null,
            "padding": null,
            "grid_auto_rows": null,
            "grid_gap": null,
            "max_width": null,
            "order": null,
            "_view_module_version": "1.2.0",
            "grid_template_areas": null,
            "object_position": null,
            "object_fit": null,
            "grid_auto_columns": null,
            "margin": null,
            "display": null,
            "left": null
          }
        },
        "807625a1a42e4c7db2ac8fa8b874b45a": {
          "model_module": "@jupyter-widgets/controls",
          "model_name": "FloatProgressModel",
          "state": {
            "_view_name": "ProgressView",
            "style": "IPY_MODEL_f2993e1cbc564651b180754094a74087",
            "_dom_classes": [],
            "description": "100%",
            "_model_name": "FloatProgressModel",
            "bar_style": "success",
            "max": 154555394,
            "_view_module": "@jupyter-widgets/controls",
            "_model_module_version": "1.5.0",
            "value": 154555394,
            "_view_count": null,
            "_view_module_version": "1.5.0",
            "orientation": "horizontal",
            "min": 0,
            "description_tooltip": null,
            "_model_module": "@jupyter-widgets/controls",
            "layout": "IPY_MODEL_6bf7d084a8054ef2a6dbb3bc29bcec6a"
          }
        },
        "1ad8dd2f688947bfbe7e7f22a4578b5b": {
          "model_module": "@jupyter-widgets/controls",
          "model_name": "HTMLModel",
          "state": {
            "_view_name": "HTMLView",
            "style": "IPY_MODEL_dc7dd75a721c4f43b7184f9873b1cced",
            "_dom_classes": [],
            "description": "",
            "_model_name": "HTMLModel",
            "placeholder": "​",
            "_view_module": "@jupyter-widgets/controls",
            "_model_module_version": "1.5.0",
            "value": " 147M/147M [00:05&lt;00:00, 29.5MB/s]",
            "_view_count": null,
            "_view_module_version": "1.5.0",
            "description_tooltip": null,
            "_model_module": "@jupyter-widgets/controls",
            "layout": "IPY_MODEL_04302091f2d543c8b71abf1c3209751b"
          }
        },
        "f2993e1cbc564651b180754094a74087": {
          "model_module": "@jupyter-widgets/controls",
          "model_name": "ProgressStyleModel",
          "state": {
            "_view_name": "StyleView",
            "_model_name": "ProgressStyleModel",
            "description_width": "initial",
            "_view_module": "@jupyter-widgets/base",
            "_model_module_version": "1.5.0",
            "_view_count": null,
            "_view_module_version": "1.2.0",
            "bar_color": null,
            "_model_module": "@jupyter-widgets/controls"
          }
        },
        "6bf7d084a8054ef2a6dbb3bc29bcec6a": {
          "model_module": "@jupyter-widgets/base",
          "model_name": "LayoutModel",
          "state": {
            "_view_name": "LayoutView",
            "grid_template_rows": null,
            "right": null,
            "justify_content": null,
            "_view_module": "@jupyter-widgets/base",
            "overflow": null,
            "_model_module_version": "1.2.0",
            "_view_count": null,
            "flex_flow": null,
            "width": null,
            "min_width": null,
            "border": null,
            "align_items": null,
            "bottom": null,
            "_model_module": "@jupyter-widgets/base",
            "top": null,
            "grid_column": null,
            "overflow_y": null,
            "overflow_x": null,
            "grid_auto_flow": null,
            "grid_area": null,
            "grid_template_columns": null,
            "flex": null,
            "_model_name": "LayoutModel",
            "justify_items": null,
            "grid_row": null,
            "max_height": null,
            "align_content": null,
            "visibility": null,
            "align_self": null,
            "height": null,
            "min_height": null,
            "padding": null,
            "grid_auto_rows": null,
            "grid_gap": null,
            "max_width": null,
            "order": null,
            "_view_module_version": "1.2.0",
            "grid_template_areas": null,
            "object_position": null,
            "object_fit": null,
            "grid_auto_columns": null,
            "margin": null,
            "display": null,
            "left": null
          }
        },
        "dc7dd75a721c4f43b7184f9873b1cced": {
          "model_module": "@jupyter-widgets/controls",
          "model_name": "DescriptionStyleModel",
          "state": {
            "_view_name": "StyleView",
            "_model_name": "DescriptionStyleModel",
            "description_width": "",
            "_view_module": "@jupyter-widgets/base",
            "_model_module_version": "1.5.0",
            "_view_count": null,
            "_view_module_version": "1.2.0",
            "_model_module": "@jupyter-widgets/controls"
          }
        },
        "04302091f2d543c8b71abf1c3209751b": {
          "model_module": "@jupyter-widgets/base",
          "model_name": "LayoutModel",
          "state": {
            "_view_name": "LayoutView",
            "grid_template_rows": null,
            "right": null,
            "justify_content": null,
            "_view_module": "@jupyter-widgets/base",
            "overflow": null,
            "_model_module_version": "1.2.0",
            "_view_count": null,
            "flex_flow": null,
            "width": null,
            "min_width": null,
            "border": null,
            "align_items": null,
            "bottom": null,
            "_model_module": "@jupyter-widgets/base",
            "top": null,
            "grid_column": null,
            "overflow_y": null,
            "overflow_x": null,
            "grid_auto_flow": null,
            "grid_area": null,
            "grid_template_columns": null,
            "flex": null,
            "_model_name": "LayoutModel",
            "justify_items": null,
            "grid_row": null,
            "max_height": null,
            "align_content": null,
            "visibility": null,
            "align_self": null,
            "height": null,
            "min_height": null,
            "padding": null,
            "grid_auto_rows": null,
            "grid_gap": null,
            "max_width": null,
            "order": null,
            "_view_module_version": "1.2.0",
            "grid_template_areas": null,
            "object_position": null,
            "object_fit": null,
            "grid_auto_columns": null,
            "margin": null,
            "display": null,
            "left": null
          }
        }
      }
    }
  },
  "cells": [
    {
      "cell_type": "markdown",
      "metadata": {
        "id": "view-in-github",
        "colab_type": "text"
      },
      "source": [
        "<a href=\"https://colab.research.google.com/github/ai-fast-track/icevision-gradio/blob/master/IceApp_pets.ipynb\" target=\"_parent\"><img src=\"https://colab.research.google.com/assets/colab-badge.svg\" alt=\"Open In Colab\"/></a>"
      ]
    },
    {
      "cell_type": "markdown",
      "metadata": {
        "id": "iHu4AkVlnqGC",
        "colab_type": "text"
      },
      "source": [
        "# IceVision Deployment App Example: PETS Dataset\n",
        "This example uses Faster RCNN trained weights using the [PETS dataset](https://airctic.github.io/icedata/pets/)\n",
        "\n",
        "About IceVision:\n",
        "- an Object-Detection Framework that connects to different libraries/frameworks such as Fastai, Pytorch Lightning, and Pytorch with more to come.\n",
        "- Features a Unified Data API with out-of-the-box support for common annotation formats (COCO, VOC, etc.)\n",
        "- Provides flexible model implementations with pluggable backbones"
      ]
    },
    {
      "cell_type": "markdown",
      "metadata": {
        "id": "xd_v-Xlzn3fC",
        "colab_type": "text"
      },
      "source": [
        "## Installing packages"
      ]
    },
    {
      "cell_type": "code",
      "metadata": {
        "id": "xywzI5XVjI2S",
        "colab_type": "code",
        "colab": {}
      },
      "source": [
        "!pip install icevision[inference]"
      ],
      "execution_count": null,
      "outputs": []
    },
    {
      "cell_type": "code",
      "metadata": {
        "id": "2l2kdIv3x0dd",
        "colab_type": "code",
        "colab": {}
      },
      "source": [
        "!pip install icedata"
      ],
      "execution_count": null,
      "outputs": []
    },
    {
      "cell_type": "code",
      "metadata": {
        "id": "jGaD1jw0H9Tj",
        "colab_type": "code",
        "colab": {}
      },
      "source": [
        "!pip install gradio"
      ],
      "execution_count": null,
      "outputs": []
    },
    {
      "cell_type": "markdown",
      "metadata": {
        "id": "RNVETtzKn-cU",
        "colab_type": "text"
      },
      "source": [
        "## Imports"
      ]
    },
    {
      "cell_type": "code",
      "metadata": {
        "id": "2PDsjGDbHBZY",
        "colab_type": "code",
        "colab": {}
      },
      "source": [
        "from icevision.all import *\n",
        "import icedata\n",
        "import PIL, requests\n",
        "import torch\n",
        "from torchvision import transforms\n",
        "import gradio as gr"
      ],
      "execution_count": 4,
      "outputs": []
    },
    {
      "cell_type": "markdown",
      "metadata": {
        "id": "kAlNFd5JoAm8",
        "colab_type": "text"
      },
      "source": [
        "## Loading trained model"
      ]
    },
    {
      "cell_type": "code",
      "metadata": {
        "id": "oWqa2mF1Me7z",
        "colab_type": "code",
        "colab": {
          "base_uri": "https://localhost:8080/",
          "height": 148,
          "referenced_widgets": [
            "4756bc3630f747eaaef662f08f55b324",
            "3351c942151c4551a17d2e0571e66f10",
            "cf3a8dafece740eeac9a5d61f99a221e",
            "d94003b18f83427493f6dc7ac4c71e29",
            "0b2625d3e3bc486a91cbe7be5f92b980",
            "0fecbda9394e494ea062349de20e0c77",
            "72264781b93f437186043a332d18651f",
            "e9a64a6ae2c54748ba469a27a1a8f3b3",
            "a100239eed234a638cfe304cd37dc4cf",
            "a3c4537e3c0146f08f7002ebefe693d7",
            "807625a1a42e4c7db2ac8fa8b874b45a",
            "1ad8dd2f688947bfbe7e7f22a4578b5b",
            "f2993e1cbc564651b180754094a74087",
            "6bf7d084a8054ef2a6dbb3bc29bcec6a",
            "dc7dd75a721c4f43b7184f9873b1cced",
            "04302091f2d543c8b71abf1c3209751b"
          ]
        },
        "outputId": "15254b34-d287-401c-bad2-336e8ee32ef0"
      },
      "source": [
        "class_map = icedata.pets.class_map()\n",
        "model = icedata.pets.trained_models.faster_rcnn_resnet50_fpn()"
      ],
      "execution_count": 5,
      "outputs": [
        {
          "output_type": "stream",
          "text": [
            "Downloading: \"https://download.pytorch.org/models/fasterrcnn_resnet50_fpn_coco-258fb6c6.pth\" to /root/.cache/torch/hub/checkpoints/fasterrcnn_resnet50_fpn_coco-258fb6c6.pth\n"
          ],
          "name": "stderr"
        },
        {
          "output_type": "display_data",
          "data": {
            "application/vnd.jupyter.widget-view+json": {
              "model_id": "4756bc3630f747eaaef662f08f55b324",
              "version_minor": 0,
              "version_major": 2
            },
            "text/plain": [
              "HBox(children=(FloatProgress(value=0.0, max=167502836.0), HTML(value='')))"
            ]
          },
          "metadata": {
            "tags": []
          }
        },
        {
          "output_type": "stream",
          "text": [
            "\n"
          ],
          "name": "stdout"
        },
        {
          "output_type": "stream",
          "text": [
            "Downloading: \"https://github.com/airctic/model_zoo/releases/download/m3/pets_faster_resnetfpn50.zip\" to /root/.cache/torch/hub/checkpoints/pets_faster_resnetfpn50.zip\n"
          ],
          "name": "stderr"
        },
        {
          "output_type": "display_data",
          "data": {
            "application/vnd.jupyter.widget-view+json": {
              "model_id": "a100239eed234a638cfe304cd37dc4cf",
              "version_minor": 0,
              "version_major": 2
            },
            "text/plain": [
              "HBox(children=(FloatProgress(value=0.0, max=154555394.0), HTML(value='')))"
            ]
          },
          "metadata": {
            "tags": []
          }
        },
        {
          "output_type": "stream",
          "text": [
            "\n"
          ],
          "name": "stdout"
        }
      ]
    },
    {
      "cell_type": "markdown",
      "metadata": {
        "id": "dtUlW1X4oL73",
        "colab_type": "text"
      },
      "source": [
        "## Defininig the predict() method\n"
      ]
    },
    {
      "cell_type": "code",
      "metadata": {
        "id": "jIzikSZLHBZo",
        "colab_type": "code",
        "colab": {}
      },
      "source": [
        "def predict(\n",
        "    model, image, detection_threshold: float = 0.5, mask_threshold: float = 0.5\n",
        "):\n",
        "    tfms_ = tfms.A.Adapter([tfms.A.Normalize()])\n",
        "    # Whenever you have images in memory (numpy arrays) you can use `Dataset.from_images`\n",
        "    infer_ds = Dataset.from_images([image], tfms_)\n",
        "\n",
        "    batch, samples = faster_rcnn.build_infer_batch(infer_ds)\n",
        "    preds = faster_rcnn.predict(\n",
        "        model=model,\n",
        "        batch=batch,\n",
        "        detection_threshold=detection_threshold\n",
        "    )\n",
        "    return samples[0][\"img\"], preds[0]"
      ],
      "execution_count": 6,
      "outputs": []
    },
    {
      "cell_type": "markdown",
      "metadata": {
        "id": "zWqaACGOoUCM",
        "colab_type": "text"
      },
      "source": [
        "## Defining the `show_preds` method: called by `gr.Interface(fn=show_preds, ...)`"
      ]
    },
    {
      "cell_type": "code",
      "metadata": {
        "id": "qJHmeIhwoSS5",
        "colab_type": "code",
        "colab": {}
      },
      "source": [
        "def show_preds(input_image, display_list, detection_threshold):\n",
        "    display_label = (\"Label\" in display_list)\n",
        "    display_bbox = (\"BBox\" in display_list)\n",
        "\n",
        "    if detection_threshold==0: detection_threshold=0.5\n",
        "    \n",
        "    img, pred = predict(model=model, image=input_image, detection_threshold=detection_threshold)\n",
        "    # print(pred)\n",
        "    img = draw_pred(img=img, pred=pred, class_map=class_map, denormalize_fn=denormalize_imagenet, display_label=display_label, display_bbox=display_bbox)\n",
        "    img = PIL.Image.fromarray(img)\n",
        "    # print(\"Output Image: \", img.size, type(img))\n",
        "    return img"
      ],
      "execution_count": 7,
      "outputs": []
    },
    {
      "cell_type": "markdown",
      "metadata": {
        "id": "yRvdtz40oim7",
        "colab_type": "text"
      },
      "source": [
        "## Gradio User Interface"
      ]
    },
    {
      "cell_type": "code",
      "metadata": {
        "id": "_tGwcfYUHBZr",
        "colab_type": "code",
        "colab": {
          "base_uri": "https://localhost:8080/",
          "height": 67
        },
        "outputId": "fd2afd16-b271-4f30-b239-a178548b912c"
      },
      "source": [
        "display_chkbox = gr.inputs.CheckboxGroup([\"Label\", \"BBox\"], label=\"Display\")\n",
        "detection_threshold_slider = gr.inputs.Slider(minimum=0, maximum=1, step=0.1, default=0.5, label=\"Detection Threshold\")\n",
        "\n",
        "outputs = gr.outputs.Image(type=\"pil\")\n",
        "\n",
        "gr_interface = gr.Interface(fn=show_preds, inputs=[\"image\", display_chkbox,  detection_threshold_slider], outputs=outputs, title='IceApp - PETS')\n",
        "gr_interface.launch(inline=False, share=True, debug=True)\n"
      ],
      "execution_count": null,
      "outputs": [
        {
          "output_type": "stream",
          "text": [
            "Colab notebook detected. This cell will run indefinitely so that you can see errors and logs. To turn off, set debug=False in launch().\n",
            "This share link will expire in 6 hours. If you need a permanent link, email support@gradio.app\n",
            "Running on External URL: https://28865.gradio.app\n"
          ],
          "name": "stdout"
        }
      ]
    },
    {
      "cell_type": "code",
      "metadata": {
        "id": "NoW-55FRlkgv",
        "colab_type": "code",
        "colab": {}
      },
      "source": [
        ""
      ],
      "execution_count": null,
      "outputs": []
    }
  ]
}