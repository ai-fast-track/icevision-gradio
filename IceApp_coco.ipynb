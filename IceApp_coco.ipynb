{
  "nbformat": 4,
  "nbformat_minor": 0,
  "metadata": {
    "orig_nbformat": 2,
    "colab": {
      "name": "IceApp_coco.ipynb",
      "provenance": [],
      "collapsed_sections": [],
      "include_colab_link": true
    },
    "kernelspec": {
      "name": "python3",
      "display_name": "Python 3"
    }
  },
  "cells": [
    {
      "cell_type": "markdown",
      "metadata": {
        "id": "view-in-github",
        "colab_type": "text"
      },
      "source": [
        "<a href=\"https://colab.research.google.com/github/ai-fast-track/icevision-gradio/blob/master/IceApp_coco.ipynb\" target=\"_parent\"><img src=\"https://colab.research.google.com/assets/colab-badge.svg\" alt=\"Open In Colab\"/></a>"
      ]
    },
    {
      "cell_type": "markdown",
      "metadata": {
        "id": "iHu4AkVlnqGC",
        "colab_type": "text"
      },
      "source": [
        "# IceVision Deployment App Example\n",
        "[IceVision](https://github.com/airctic/IceVision) is:\n",
        "- an Object-Detection Framework that connects to different libraries/frameworks such as Fastai, Pytorch Lightning, and Pytorch with more to come.\n",
        "- Features a Unified Data API with out-of-the-box support for common annotation formats (COCO, VOC, etc.)\n",
        "- Provides flexible model implementations with pluggable backbones"
      ]
    },
    {
      "cell_type": "markdown",
      "metadata": {
        "id": "xd_v-Xlzn3fC",
        "colab_type": "text"
      },
      "source": [
        "## Installing packages"
      ]
    },
    {
      "cell_type": "code",
      "metadata": {
        "id": "xywzI5XVjI2S",
        "colab_type": "code",
        "colab": {
          "base_uri": "https://localhost:8080/",
          "height": 709
        },
        "outputId": "202e90e1-2e15-4bb1-94de-2abf3d40f06b"
      },
      "source": [
        "!pip install icevision[inference]"
      ],
      "execution_count": 1,
      "outputs": [
        {
          "output_type": "stream",
          "text": [
            "Requirement already satisfied: icevision[inference] in /usr/local/lib/python3.6/dist-packages (0.1.3.post2)\n",
            "Requirement already satisfied: tqdm<5.0.0,>=4.49.0 in /usr/local/lib/python3.6/dist-packages (from icevision[inference]) (4.49.0)\n",
            "Requirement already satisfied: opencv-python<5.0.0,>=4.4.0 in /usr/local/lib/python3.6/dist-packages (from icevision[inference]) (4.4.0.44)\n",
            "Requirement already satisfied: torchvision<0.8.0,>=0.7.0 in /usr/local/lib/python3.6/dist-packages (from icevision[inference]) (0.7.0+cu101)\n",
            "Requirement already satisfied: albumentations<0.5.0,>=0.4.6 in /usr/local/lib/python3.6/dist-packages (from icevision[inference]) (0.4.6)\n",
            "Requirement already satisfied: torch<1.7.0,>=1.6.0 in /usr/local/lib/python3.6/dist-packages (from icevision[inference]) (1.6.0+cu101)\n",
            "Requirement already satisfied: fastcore<0.1.33 in /usr/local/lib/python3.6/dist-packages (from icevision[inference]) (0.1.32)\n",
            "Requirement already satisfied: matplotlib<4.0.0,>=3.3.2 in /usr/local/lib/python3.6/dist-packages (from icevision[inference]) (3.3.2)\n",
            "Requirement already satisfied: requests<3.0.0,>=2.24.0 in /usr/local/lib/python3.6/dist-packages (from icevision[inference]) (2.24.0)\n",
            "Requirement already satisfied: pycocotools<3.0.0,>=2.0.2 in /usr/local/lib/python3.6/dist-packages (from icevision[inference]) (2.0.2)\n",
            "Requirement already satisfied: effdet<0.2.0,>=0.1.6; extra == \"all\" or extra == \"training\" or extra == \"inference\" or extra == \"models\" in /usr/local/lib/python3.6/dist-packages (from icevision[inference]) (0.1.6)\n",
            "Requirement already satisfied: dataclasses==0.6; extra == \"all\" or extra == \"training\" or extra == \"inference\" or extra == \"models\" in /usr/local/lib/python3.6/dist-packages (from icevision[inference]) (0.6)\n",
            "Requirement already satisfied: omegaconf<3.0.0,>=2.0.0; extra == \"all\" or extra == \"training\" or extra == \"inference\" or extra == \"models\" in /usr/local/lib/python3.6/dist-packages (from icevision[inference]) (2.0.2)\n",
            "Requirement already satisfied: numpy>=1.13.3 in /usr/local/lib/python3.6/dist-packages (from opencv-python<5.0.0,>=4.4.0->icevision[inference]) (1.18.5)\n",
            "Requirement already satisfied: pillow>=4.1.1 in /usr/local/lib/python3.6/dist-packages (from torchvision<0.8.0,>=0.7.0->icevision[inference]) (7.0.0)\n",
            "Requirement already satisfied: scipy in /usr/local/lib/python3.6/dist-packages (from albumentations<0.5.0,>=0.4.6->icevision[inference]) (1.4.1)\n",
            "Requirement already satisfied: PyYAML in /usr/local/lib/python3.6/dist-packages (from albumentations<0.5.0,>=0.4.6->icevision[inference]) (3.13)\n",
            "Requirement already satisfied: imgaug>=0.4.0 in /usr/local/lib/python3.6/dist-packages (from albumentations<0.5.0,>=0.4.6->icevision[inference]) (0.4.0)\n",
            "Requirement already satisfied: future in /usr/local/lib/python3.6/dist-packages (from torch<1.7.0,>=1.6.0->icevision[inference]) (0.16.0)\n",
            "Requirement already satisfied: pip in /usr/local/lib/python3.6/dist-packages (from fastcore<0.1.33->icevision[inference]) (19.3.1)\n",
            "Requirement already satisfied: packaging in /usr/local/lib/python3.6/dist-packages (from fastcore<0.1.33->icevision[inference]) (20.4)\n",
            "Requirement already satisfied: certifi>=2020.06.20 in /usr/local/lib/python3.6/dist-packages (from matplotlib<4.0.0,>=3.3.2->icevision[inference]) (2020.6.20)\n",
            "Requirement already satisfied: pyparsing!=2.0.4,!=2.1.2,!=2.1.6,>=2.0.3 in /usr/local/lib/python3.6/dist-packages (from matplotlib<4.0.0,>=3.3.2->icevision[inference]) (2.4.7)\n",
            "Requirement already satisfied: kiwisolver>=1.0.1 in /usr/local/lib/python3.6/dist-packages (from matplotlib<4.0.0,>=3.3.2->icevision[inference]) (1.2.0)\n",
            "Requirement already satisfied: python-dateutil>=2.1 in /usr/local/lib/python3.6/dist-packages (from matplotlib<4.0.0,>=3.3.2->icevision[inference]) (2.8.1)\n",
            "Requirement already satisfied: cycler>=0.10 in /usr/local/lib/python3.6/dist-packages (from matplotlib<4.0.0,>=3.3.2->icevision[inference]) (0.10.0)\n",
            "Requirement already satisfied: idna<3,>=2.5 in /usr/local/lib/python3.6/dist-packages (from requests<3.0.0,>=2.24.0->icevision[inference]) (2.10)\n",
            "Requirement already satisfied: urllib3!=1.25.0,!=1.25.1,<1.26,>=1.21.1 in /usr/local/lib/python3.6/dist-packages (from requests<3.0.0,>=2.24.0->icevision[inference]) (1.24.3)\n",
            "Requirement already satisfied: chardet<4,>=3.0.2 in /usr/local/lib/python3.6/dist-packages (from requests<3.0.0,>=2.24.0->icevision[inference]) (3.0.4)\n",
            "Requirement already satisfied: setuptools>=18.0 in /usr/local/lib/python3.6/dist-packages (from pycocotools<3.0.0,>=2.0.2->icevision[inference]) (50.3.0)\n",
            "Requirement already satisfied: cython>=0.27.3 in /usr/local/lib/python3.6/dist-packages (from pycocotools<3.0.0,>=2.0.2->icevision[inference]) (0.29.21)\n",
            "Requirement already satisfied: timm>=0.1.28 in /usr/local/lib/python3.6/dist-packages (from effdet<0.2.0,>=0.1.6; extra == \"all\" or extra == \"training\" or extra == \"inference\" or extra == \"models\"->icevision[inference]) (0.2.1)\n",
            "Requirement already satisfied: typing-extensions in /usr/local/lib/python3.6/dist-packages (from omegaconf<3.0.0,>=2.0.0; extra == \"all\" or extra == \"training\" or extra == \"inference\" or extra == \"models\"->icevision[inference]) (3.7.4.3)\n",
            "Requirement already satisfied: Shapely in /usr/local/lib/python3.6/dist-packages (from imgaug>=0.4.0->albumentations<0.5.0,>=0.4.6->icevision[inference]) (1.7.1)\n",
            "Requirement already satisfied: scikit-image>=0.14.2 in /usr/local/lib/python3.6/dist-packages (from imgaug>=0.4.0->albumentations<0.5.0,>=0.4.6->icevision[inference]) (0.16.2)\n",
            "Requirement already satisfied: imageio in /usr/local/lib/python3.6/dist-packages (from imgaug>=0.4.0->albumentations<0.5.0,>=0.4.6->icevision[inference]) (2.4.1)\n",
            "Requirement already satisfied: six in /usr/local/lib/python3.6/dist-packages (from imgaug>=0.4.0->albumentations<0.5.0,>=0.4.6->icevision[inference]) (1.15.0)\n",
            "Requirement already satisfied: networkx>=2.0 in /usr/local/lib/python3.6/dist-packages (from scikit-image>=0.14.2->imgaug>=0.4.0->albumentations<0.5.0,>=0.4.6->icevision[inference]) (2.5)\n",
            "Requirement already satisfied: PyWavelets>=0.4.0 in /usr/local/lib/python3.6/dist-packages (from scikit-image>=0.14.2->imgaug>=0.4.0->albumentations<0.5.0,>=0.4.6->icevision[inference]) (1.1.1)\n",
            "Requirement already satisfied: decorator>=4.3.0 in /usr/local/lib/python3.6/dist-packages (from networkx>=2.0->scikit-image>=0.14.2->imgaug>=0.4.0->albumentations<0.5.0,>=0.4.6->icevision[inference]) (4.4.2)\n"
          ],
          "name": "stdout"
        }
      ]
    },
    {
      "cell_type": "code",
      "metadata": {
        "id": "2l2kdIv3x0dd",
        "colab_type": "code",
        "colab": {
          "base_uri": "https://localhost:8080/",
          "height": 1000
        },
        "outputId": "85392e43-0561-4f12-8299-513a69cbccdf"
      },
      "source": [
        "!pip install icedata"
      ],
      "execution_count": 2,
      "outputs": [
        {
          "output_type": "stream",
          "text": [
            "Requirement already satisfied: icedata in /usr/local/lib/python3.6/dist-packages (0.0.2.post2)\n",
            "Requirement already satisfied: icevision[all]<0.2.0,>=0.1.3post2 in /usr/local/lib/python3.6/dist-packages (from icedata) (0.1.3.post2)\n",
            "Requirement already satisfied: pycocotools<3.0.0,>=2.0.2 in /usr/local/lib/python3.6/dist-packages (from icevision[all]<0.2.0,>=0.1.3post2->icedata) (2.0.2)\n",
            "Requirement already satisfied: matplotlib<4.0.0,>=3.3.2 in /usr/local/lib/python3.6/dist-packages (from icevision[all]<0.2.0,>=0.1.3post2->icedata) (3.3.2)\n",
            "Requirement already satisfied: tqdm<5.0.0,>=4.49.0 in /usr/local/lib/python3.6/dist-packages (from icevision[all]<0.2.0,>=0.1.3post2->icedata) (4.49.0)\n",
            "Requirement already satisfied: fastcore<0.1.33 in /usr/local/lib/python3.6/dist-packages (from icevision[all]<0.2.0,>=0.1.3post2->icedata) (0.1.32)\n",
            "Requirement already satisfied: requests<3.0.0,>=2.24.0 in /usr/local/lib/python3.6/dist-packages (from icevision[all]<0.2.0,>=0.1.3post2->icedata) (2.24.0)\n",
            "Requirement already satisfied: torch<1.7.0,>=1.6.0 in /usr/local/lib/python3.6/dist-packages (from icevision[all]<0.2.0,>=0.1.3post2->icedata) (1.6.0+cu101)\n",
            "Requirement already satisfied: torchvision<0.8.0,>=0.7.0 in /usr/local/lib/python3.6/dist-packages (from icevision[all]<0.2.0,>=0.1.3post2->icedata) (0.7.0+cu101)\n",
            "Requirement already satisfied: opencv-python<5.0.0,>=4.4.0 in /usr/local/lib/python3.6/dist-packages (from icevision[all]<0.2.0,>=0.1.3post2->icedata) (4.4.0.44)\n",
            "Requirement already satisfied: albumentations<0.5.0,>=0.4.6 in /usr/local/lib/python3.6/dist-packages (from icevision[all]<0.2.0,>=0.1.3post2->icedata) (0.4.6)\n",
            "Requirement already satisfied: fastai2<0.0.26,>=0.0.18; extra == \"all\" or extra == \"training\" or extra == \"fastai\" in /usr/local/lib/python3.6/dist-packages (from icevision[all]<0.2.0,>=0.1.3post2->icedata) (0.0.25)\n",
            "Requirement already satisfied: effdet<0.2.0,>=0.1.6; extra == \"all\" or extra == \"training\" or extra == \"inference\" or extra == \"models\" in /usr/local/lib/python3.6/dist-packages (from icevision[all]<0.2.0,>=0.1.3post2->icedata) (0.1.6)\n",
            "Requirement already satisfied: pytorch-lightning<0.10,>=0.9; extra == \"all\" or extra == \"training\" or extra == \"lightning\" in /usr/local/lib/python3.6/dist-packages (from icevision[all]<0.2.0,>=0.1.3post2->icedata) (0.9.0)\n",
            "Requirement already satisfied: dataclasses==0.6; extra == \"all\" or extra == \"training\" or extra == \"inference\" or extra == \"models\" in /usr/local/lib/python3.6/dist-packages (from icevision[all]<0.2.0,>=0.1.3post2->icedata) (0.6)\n",
            "Requirement already satisfied: ipykernel<6.0.0,>=5.3.4; extra == \"all\" or extra == \"training\" or extra == \"fastai\" in /usr/local/lib/python3.6/dist-packages (from icevision[all]<0.2.0,>=0.1.3post2->icedata) (5.3.4)\n",
            "Requirement already satisfied: omegaconf<3.0.0,>=2.0.0; extra == \"all\" or extra == \"training\" or extra == \"inference\" or extra == \"models\" in /usr/local/lib/python3.6/dist-packages (from icevision[all]<0.2.0,>=0.1.3post2->icedata) (2.0.2)\n",
            "Requirement already satisfied: cython>=0.27.3 in /usr/local/lib/python3.6/dist-packages (from pycocotools<3.0.0,>=2.0.2->icevision[all]<0.2.0,>=0.1.3post2->icedata) (0.29.21)\n",
            "Requirement already satisfied: setuptools>=18.0 in /usr/local/lib/python3.6/dist-packages (from pycocotools<3.0.0,>=2.0.2->icevision[all]<0.2.0,>=0.1.3post2->icedata) (50.3.0)\n",
            "Requirement already satisfied: pillow>=6.2.0 in /usr/local/lib/python3.6/dist-packages (from matplotlib<4.0.0,>=3.3.2->icevision[all]<0.2.0,>=0.1.3post2->icedata) (7.0.0)\n",
            "Requirement already satisfied: kiwisolver>=1.0.1 in /usr/local/lib/python3.6/dist-packages (from matplotlib<4.0.0,>=3.3.2->icevision[all]<0.2.0,>=0.1.3post2->icedata) (1.2.0)\n",
            "Requirement already satisfied: certifi>=2020.06.20 in /usr/local/lib/python3.6/dist-packages (from matplotlib<4.0.0,>=3.3.2->icevision[all]<0.2.0,>=0.1.3post2->icedata) (2020.6.20)\n",
            "Requirement already satisfied: numpy>=1.15 in /usr/local/lib/python3.6/dist-packages (from matplotlib<4.0.0,>=3.3.2->icevision[all]<0.2.0,>=0.1.3post2->icedata) (1.18.5)\n",
            "Requirement already satisfied: pyparsing!=2.0.4,!=2.1.2,!=2.1.6,>=2.0.3 in /usr/local/lib/python3.6/dist-packages (from matplotlib<4.0.0,>=3.3.2->icevision[all]<0.2.0,>=0.1.3post2->icedata) (2.4.7)\n",
            "Requirement already satisfied: python-dateutil>=2.1 in /usr/local/lib/python3.6/dist-packages (from matplotlib<4.0.0,>=3.3.2->icevision[all]<0.2.0,>=0.1.3post2->icedata) (2.8.1)\n",
            "Requirement already satisfied: cycler>=0.10 in /usr/local/lib/python3.6/dist-packages (from matplotlib<4.0.0,>=3.3.2->icevision[all]<0.2.0,>=0.1.3post2->icedata) (0.10.0)\n",
            "Requirement already satisfied: pip in /usr/local/lib/python3.6/dist-packages (from fastcore<0.1.33->icevision[all]<0.2.0,>=0.1.3post2->icedata) (19.3.1)\n",
            "Requirement already satisfied: packaging in /usr/local/lib/python3.6/dist-packages (from fastcore<0.1.33->icevision[all]<0.2.0,>=0.1.3post2->icedata) (20.4)\n",
            "Requirement already satisfied: chardet<4,>=3.0.2 in /usr/local/lib/python3.6/dist-packages (from requests<3.0.0,>=2.24.0->icevision[all]<0.2.0,>=0.1.3post2->icedata) (3.0.4)\n",
            "Requirement already satisfied: idna<3,>=2.5 in /usr/local/lib/python3.6/dist-packages (from requests<3.0.0,>=2.24.0->icevision[all]<0.2.0,>=0.1.3post2->icedata) (2.10)\n",
            "Requirement already satisfied: urllib3!=1.25.0,!=1.25.1,<1.26,>=1.21.1 in /usr/local/lib/python3.6/dist-packages (from requests<3.0.0,>=2.24.0->icevision[all]<0.2.0,>=0.1.3post2->icedata) (1.24.3)\n",
            "Requirement already satisfied: future in /usr/local/lib/python3.6/dist-packages (from torch<1.7.0,>=1.6.0->icevision[all]<0.2.0,>=0.1.3post2->icedata) (0.16.0)\n",
            "Requirement already satisfied: imgaug>=0.4.0 in /usr/local/lib/python3.6/dist-packages (from albumentations<0.5.0,>=0.4.6->icevision[all]<0.2.0,>=0.1.3post2->icedata) (0.4.0)\n",
            "Requirement already satisfied: PyYAML in /usr/local/lib/python3.6/dist-packages (from albumentations<0.5.0,>=0.4.6->icevision[all]<0.2.0,>=0.1.3post2->icedata) (3.13)\n",
            "Requirement already satisfied: scipy in /usr/local/lib/python3.6/dist-packages (from albumentations<0.5.0,>=0.4.6->icevision[all]<0.2.0,>=0.1.3post2->icedata) (1.4.1)\n",
            "Requirement already satisfied: fastprogress>=0.2.4 in /usr/local/lib/python3.6/dist-packages (from fastai2<0.0.26,>=0.0.18; extra == \"all\" or extra == \"training\" or extra == \"fastai\"->icevision[all]<0.2.0,>=0.1.3post2->icedata) (1.0.0)\n",
            "Requirement already satisfied: scikit-learn in /usr/local/lib/python3.6/dist-packages (from fastai2<0.0.26,>=0.0.18; extra == \"all\" or extra == \"training\" or extra == \"fastai\"->icevision[all]<0.2.0,>=0.1.3post2->icedata) (0.22.2.post1)\n",
            "Requirement already satisfied: spacy in /usr/local/lib/python3.6/dist-packages (from fastai2<0.0.26,>=0.0.18; extra == \"all\" or extra == \"training\" or extra == \"fastai\"->icevision[all]<0.2.0,>=0.1.3post2->icedata) (2.2.4)\n",
            "Requirement already satisfied: pandas in /usr/local/lib/python3.6/dist-packages (from fastai2<0.0.26,>=0.0.18; extra == \"all\" or extra == \"training\" or extra == \"fastai\"->icevision[all]<0.2.0,>=0.1.3post2->icedata) (1.0.5)\n",
            "Requirement already satisfied: timm>=0.1.28 in /usr/local/lib/python3.6/dist-packages (from effdet<0.2.0,>=0.1.6; extra == \"all\" or extra == \"training\" or extra == \"inference\" or extra == \"models\"->icevision[all]<0.2.0,>=0.1.3post2->icedata) (0.2.1)\n",
            "Requirement already satisfied: tensorboard==2.2.0 in /usr/local/lib/python3.6/dist-packages (from pytorch-lightning<0.10,>=0.9; extra == \"all\" or extra == \"training\" or extra == \"lightning\"->icevision[all]<0.2.0,>=0.1.3post2->icedata) (2.2.0)\n",
            "Requirement already satisfied: ipython>=5.0.0 in /usr/local/lib/python3.6/dist-packages (from ipykernel<6.0.0,>=5.3.4; extra == \"all\" or extra == \"training\" or extra == \"fastai\"->icevision[all]<0.2.0,>=0.1.3post2->icedata) (5.5.0)\n",
            "Requirement already satisfied: tornado>=4.2 in /usr/local/lib/python3.6/dist-packages (from ipykernel<6.0.0,>=5.3.4; extra == \"all\" or extra == \"training\" or extra == \"fastai\"->icevision[all]<0.2.0,>=0.1.3post2->icedata) (5.1.1)\n",
            "Requirement already satisfied: jupyter-client in /usr/local/lib/python3.6/dist-packages (from ipykernel<6.0.0,>=5.3.4; extra == \"all\" or extra == \"training\" or extra == \"fastai\"->icevision[all]<0.2.0,>=0.1.3post2->icedata) (5.3.5)\n",
            "Requirement already satisfied: traitlets>=4.1.0 in /usr/local/lib/python3.6/dist-packages (from ipykernel<6.0.0,>=5.3.4; extra == \"all\" or extra == \"training\" or extra == \"fastai\"->icevision[all]<0.2.0,>=0.1.3post2->icedata) (4.3.3)\n",
            "Requirement already satisfied: typing-extensions in /usr/local/lib/python3.6/dist-packages (from omegaconf<3.0.0,>=2.0.0; extra == \"all\" or extra == \"training\" or extra == \"inference\" or extra == \"models\"->icevision[all]<0.2.0,>=0.1.3post2->icedata) (3.7.4.3)\n",
            "Requirement already satisfied: six>=1.5 in /usr/local/lib/python3.6/dist-packages (from python-dateutil>=2.1->matplotlib<4.0.0,>=3.3.2->icevision[all]<0.2.0,>=0.1.3post2->icedata) (1.15.0)\n",
            "Requirement already satisfied: scikit-image>=0.14.2 in /usr/local/lib/python3.6/dist-packages (from imgaug>=0.4.0->albumentations<0.5.0,>=0.4.6->icevision[all]<0.2.0,>=0.1.3post2->icedata) (0.16.2)\n",
            "Requirement already satisfied: imageio in /usr/local/lib/python3.6/dist-packages (from imgaug>=0.4.0->albumentations<0.5.0,>=0.4.6->icevision[all]<0.2.0,>=0.1.3post2->icedata) (2.4.1)\n",
            "Requirement already satisfied: Shapely in /usr/local/lib/python3.6/dist-packages (from imgaug>=0.4.0->albumentations<0.5.0,>=0.4.6->icevision[all]<0.2.0,>=0.1.3post2->icedata) (1.7.1)\n",
            "Requirement already satisfied: joblib>=0.11 in /usr/local/lib/python3.6/dist-packages (from scikit-learn->fastai2<0.0.26,>=0.0.18; extra == \"all\" or extra == \"training\" or extra == \"fastai\"->icevision[all]<0.2.0,>=0.1.3post2->icedata) (0.16.0)\n",
            "Requirement already satisfied: preshed<3.1.0,>=3.0.2 in /usr/local/lib/python3.6/dist-packages (from spacy->fastai2<0.0.26,>=0.0.18; extra == \"all\" or extra == \"training\" or extra == \"fastai\"->icevision[all]<0.2.0,>=0.1.3post2->icedata) (3.0.2)\n",
            "Requirement already satisfied: blis<0.5.0,>=0.4.0 in /usr/local/lib/python3.6/dist-packages (from spacy->fastai2<0.0.26,>=0.0.18; extra == \"all\" or extra == \"training\" or extra == \"fastai\"->icevision[all]<0.2.0,>=0.1.3post2->icedata) (0.4.1)\n",
            "Requirement already satisfied: catalogue<1.1.0,>=0.0.7 in /usr/local/lib/python3.6/dist-packages (from spacy->fastai2<0.0.26,>=0.0.18; extra == \"all\" or extra == \"training\" or extra == \"fastai\"->icevision[all]<0.2.0,>=0.1.3post2->icedata) (1.0.0)\n",
            "Requirement already satisfied: wasabi<1.1.0,>=0.4.0 in /usr/local/lib/python3.6/dist-packages (from spacy->fastai2<0.0.26,>=0.0.18; extra == \"all\" or extra == \"training\" or extra == \"fastai\"->icevision[all]<0.2.0,>=0.1.3post2->icedata) (0.8.0)\n",
            "Requirement already satisfied: srsly<1.1.0,>=1.0.2 in /usr/local/lib/python3.6/dist-packages (from spacy->fastai2<0.0.26,>=0.0.18; extra == \"all\" or extra == \"training\" or extra == \"fastai\"->icevision[all]<0.2.0,>=0.1.3post2->icedata) (1.0.2)\n",
            "Requirement already satisfied: murmurhash<1.1.0,>=0.28.0 in /usr/local/lib/python3.6/dist-packages (from spacy->fastai2<0.0.26,>=0.0.18; extra == \"all\" or extra == \"training\" or extra == \"fastai\"->icevision[all]<0.2.0,>=0.1.3post2->icedata) (1.0.2)\n",
            "Requirement already satisfied: thinc==7.4.0 in /usr/local/lib/python3.6/dist-packages (from spacy->fastai2<0.0.26,>=0.0.18; extra == \"all\" or extra == \"training\" or extra == \"fastai\"->icevision[all]<0.2.0,>=0.1.3post2->icedata) (7.4.0)\n",
            "Requirement already satisfied: plac<1.2.0,>=0.9.6 in /usr/local/lib/python3.6/dist-packages (from spacy->fastai2<0.0.26,>=0.0.18; extra == \"all\" or extra == \"training\" or extra == \"fastai\"->icevision[all]<0.2.0,>=0.1.3post2->icedata) (1.1.3)\n",
            "Requirement already satisfied: cymem<2.1.0,>=2.0.2 in /usr/local/lib/python3.6/dist-packages (from spacy->fastai2<0.0.26,>=0.0.18; extra == \"all\" or extra == \"training\" or extra == \"fastai\"->icevision[all]<0.2.0,>=0.1.3post2->icedata) (2.0.3)\n",
            "Requirement already satisfied: pytz>=2017.2 in /usr/local/lib/python3.6/dist-packages (from pandas->fastai2<0.0.26,>=0.0.18; extra == \"all\" or extra == \"training\" or extra == \"fastai\"->icevision[all]<0.2.0,>=0.1.3post2->icedata) (2018.9)\n",
            "Requirement already satisfied: grpcio>=1.24.3 in /usr/local/lib/python3.6/dist-packages (from tensorboard==2.2.0->pytorch-lightning<0.10,>=0.9; extra == \"all\" or extra == \"training\" or extra == \"lightning\"->icevision[all]<0.2.0,>=0.1.3post2->icedata) (1.32.0)\n",
            "Requirement already satisfied: absl-py>=0.4 in /usr/local/lib/python3.6/dist-packages (from tensorboard==2.2.0->pytorch-lightning<0.10,>=0.9; extra == \"all\" or extra == \"training\" or extra == \"lightning\"->icevision[all]<0.2.0,>=0.1.3post2->icedata) (0.10.0)\n",
            "Requirement already satisfied: markdown>=2.6.8 in /usr/local/lib/python3.6/dist-packages (from tensorboard==2.2.0->pytorch-lightning<0.10,>=0.9; extra == \"all\" or extra == \"training\" or extra == \"lightning\"->icevision[all]<0.2.0,>=0.1.3post2->icedata) (3.2.2)\n",
            "Requirement already satisfied: werkzeug>=0.11.15 in /usr/local/lib/python3.6/dist-packages (from tensorboard==2.2.0->pytorch-lightning<0.10,>=0.9; extra == \"all\" or extra == \"training\" or extra == \"lightning\"->icevision[all]<0.2.0,>=0.1.3post2->icedata) (1.0.1)\n",
            "Requirement already satisfied: google-auth<2,>=1.6.3 in /usr/local/lib/python3.6/dist-packages (from tensorboard==2.2.0->pytorch-lightning<0.10,>=0.9; extra == \"all\" or extra == \"training\" or extra == \"lightning\"->icevision[all]<0.2.0,>=0.1.3post2->icedata) (1.17.2)\n",
            "Requirement already satisfied: tensorboard-plugin-wit>=1.6.0 in /usr/local/lib/python3.6/dist-packages (from tensorboard==2.2.0->pytorch-lightning<0.10,>=0.9; extra == \"all\" or extra == \"training\" or extra == \"lightning\"->icevision[all]<0.2.0,>=0.1.3post2->icedata) (1.7.0)\n",
            "Requirement already satisfied: protobuf>=3.6.0 in /usr/local/lib/python3.6/dist-packages (from tensorboard==2.2.0->pytorch-lightning<0.10,>=0.9; extra == \"all\" or extra == \"training\" or extra == \"lightning\"->icevision[all]<0.2.0,>=0.1.3post2->icedata) (3.12.4)\n",
            "Requirement already satisfied: wheel>=0.26; python_version >= \"3\" in /usr/local/lib/python3.6/dist-packages (from tensorboard==2.2.0->pytorch-lightning<0.10,>=0.9; extra == \"all\" or extra == \"training\" or extra == \"lightning\"->icevision[all]<0.2.0,>=0.1.3post2->icedata) (0.35.1)\n",
            "Requirement already satisfied: google-auth-oauthlib<0.5,>=0.4.1 in /usr/local/lib/python3.6/dist-packages (from tensorboard==2.2.0->pytorch-lightning<0.10,>=0.9; extra == \"all\" or extra == \"training\" or extra == \"lightning\"->icevision[all]<0.2.0,>=0.1.3post2->icedata) (0.4.1)\n",
            "Requirement already satisfied: pexpect; sys_platform != \"win32\" in /usr/local/lib/python3.6/dist-packages (from ipython>=5.0.0->ipykernel<6.0.0,>=5.3.4; extra == \"all\" or extra == \"training\" or extra == \"fastai\"->icevision[all]<0.2.0,>=0.1.3post2->icedata) (4.8.0)\n",
            "Requirement already satisfied: decorator in /usr/local/lib/python3.6/dist-packages (from ipython>=5.0.0->ipykernel<6.0.0,>=5.3.4; extra == \"all\" or extra == \"training\" or extra == \"fastai\"->icevision[all]<0.2.0,>=0.1.3post2->icedata) (4.4.2)\n",
            "Requirement already satisfied: simplegeneric>0.8 in /usr/local/lib/python3.6/dist-packages (from ipython>=5.0.0->ipykernel<6.0.0,>=5.3.4; extra == \"all\" or extra == \"training\" or extra == \"fastai\"->icevision[all]<0.2.0,>=0.1.3post2->icedata) (0.8.1)\n",
            "Requirement already satisfied: pickleshare in /usr/local/lib/python3.6/dist-packages (from ipython>=5.0.0->ipykernel<6.0.0,>=5.3.4; extra == \"all\" or extra == \"training\" or extra == \"fastai\"->icevision[all]<0.2.0,>=0.1.3post2->icedata) (0.7.5)\n",
            "Requirement already satisfied: prompt-toolkit<2.0.0,>=1.0.4 in /usr/local/lib/python3.6/dist-packages (from ipython>=5.0.0->ipykernel<6.0.0,>=5.3.4; extra == \"all\" or extra == \"training\" or extra == \"fastai\"->icevision[all]<0.2.0,>=0.1.3post2->icedata) (1.0.18)\n",
            "Requirement already satisfied: pygments in /usr/local/lib/python3.6/dist-packages (from ipython>=5.0.0->ipykernel<6.0.0,>=5.3.4; extra == \"all\" or extra == \"training\" or extra == \"fastai\"->icevision[all]<0.2.0,>=0.1.3post2->icedata) (2.6.1)\n",
            "Requirement already satisfied: pyzmq>=13 in /usr/local/lib/python3.6/dist-packages (from jupyter-client->ipykernel<6.0.0,>=5.3.4; extra == \"all\" or extra == \"training\" or extra == \"fastai\"->icevision[all]<0.2.0,>=0.1.3post2->icedata) (19.0.2)\n",
            "Requirement already satisfied: jupyter-core>=4.6.0 in /usr/local/lib/python3.6/dist-packages (from jupyter-client->ipykernel<6.0.0,>=5.3.4; extra == \"all\" or extra == \"training\" or extra == \"fastai\"->icevision[all]<0.2.0,>=0.1.3post2->icedata) (4.6.3)\n",
            "Requirement already satisfied: ipython-genutils in /usr/local/lib/python3.6/dist-packages (from traitlets>=4.1.0->ipykernel<6.0.0,>=5.3.4; extra == \"all\" or extra == \"training\" or extra == \"fastai\"->icevision[all]<0.2.0,>=0.1.3post2->icedata) (0.2.0)\n",
            "Requirement already satisfied: PyWavelets>=0.4.0 in /usr/local/lib/python3.6/dist-packages (from scikit-image>=0.14.2->imgaug>=0.4.0->albumentations<0.5.0,>=0.4.6->icevision[all]<0.2.0,>=0.1.3post2->icedata) (1.1.1)\n",
            "Requirement already satisfied: networkx>=2.0 in /usr/local/lib/python3.6/dist-packages (from scikit-image>=0.14.2->imgaug>=0.4.0->albumentations<0.5.0,>=0.4.6->icevision[all]<0.2.0,>=0.1.3post2->icedata) (2.5)\n",
            "Requirement already satisfied: importlib-metadata>=0.20; python_version < \"3.8\" in /usr/local/lib/python3.6/dist-packages (from catalogue<1.1.0,>=0.0.7->spacy->fastai2<0.0.26,>=0.0.18; extra == \"all\" or extra == \"training\" or extra == \"fastai\"->icevision[all]<0.2.0,>=0.1.3post2->icedata) (1.7.0)\n",
            "Requirement already satisfied: cachetools<5.0,>=2.0.0 in /usr/local/lib/python3.6/dist-packages (from google-auth<2,>=1.6.3->tensorboard==2.2.0->pytorch-lightning<0.10,>=0.9; extra == \"all\" or extra == \"training\" or extra == \"lightning\"->icevision[all]<0.2.0,>=0.1.3post2->icedata) (4.1.1)\n",
            "Requirement already satisfied: rsa<5,>=3.1.4; python_version >= \"3\" in /usr/local/lib/python3.6/dist-packages (from google-auth<2,>=1.6.3->tensorboard==2.2.0->pytorch-lightning<0.10,>=0.9; extra == \"all\" or extra == \"training\" or extra == \"lightning\"->icevision[all]<0.2.0,>=0.1.3post2->icedata) (4.6)\n",
            "Requirement already satisfied: pyasn1-modules>=0.2.1 in /usr/local/lib/python3.6/dist-packages (from google-auth<2,>=1.6.3->tensorboard==2.2.0->pytorch-lightning<0.10,>=0.9; extra == \"all\" or extra == \"training\" or extra == \"lightning\"->icevision[all]<0.2.0,>=0.1.3post2->icedata) (0.2.8)\n",
            "Requirement already satisfied: requests-oauthlib>=0.7.0 in /usr/local/lib/python3.6/dist-packages (from google-auth-oauthlib<0.5,>=0.4.1->tensorboard==2.2.0->pytorch-lightning<0.10,>=0.9; extra == \"all\" or extra == \"training\" or extra == \"lightning\"->icevision[all]<0.2.0,>=0.1.3post2->icedata) (1.3.0)\n",
            "Requirement already satisfied: ptyprocess>=0.5 in /usr/local/lib/python3.6/dist-packages (from pexpect; sys_platform != \"win32\"->ipython>=5.0.0->ipykernel<6.0.0,>=5.3.4; extra == \"all\" or extra == \"training\" or extra == \"fastai\"->icevision[all]<0.2.0,>=0.1.3post2->icedata) (0.6.0)\n",
            "Requirement already satisfied: wcwidth in /usr/local/lib/python3.6/dist-packages (from prompt-toolkit<2.0.0,>=1.0.4->ipython>=5.0.0->ipykernel<6.0.0,>=5.3.4; extra == \"all\" or extra == \"training\" or extra == \"fastai\"->icevision[all]<0.2.0,>=0.1.3post2->icedata) (0.2.5)\n",
            "Requirement already satisfied: zipp>=0.5 in /usr/local/lib/python3.6/dist-packages (from importlib-metadata>=0.20; python_version < \"3.8\"->catalogue<1.1.0,>=0.0.7->spacy->fastai2<0.0.26,>=0.0.18; extra == \"all\" or extra == \"training\" or extra == \"fastai\"->icevision[all]<0.2.0,>=0.1.3post2->icedata) (3.1.0)\n",
            "Requirement already satisfied: pyasn1>=0.1.3 in /usr/local/lib/python3.6/dist-packages (from rsa<5,>=3.1.4; python_version >= \"3\"->google-auth<2,>=1.6.3->tensorboard==2.2.0->pytorch-lightning<0.10,>=0.9; extra == \"all\" or extra == \"training\" or extra == \"lightning\"->icevision[all]<0.2.0,>=0.1.3post2->icedata) (0.4.8)\n",
            "Requirement already satisfied: oauthlib>=3.0.0 in /usr/local/lib/python3.6/dist-packages (from requests-oauthlib>=0.7.0->google-auth-oauthlib<0.5,>=0.4.1->tensorboard==2.2.0->pytorch-lightning<0.10,>=0.9; extra == \"all\" or extra == \"training\" or extra == \"lightning\"->icevision[all]<0.2.0,>=0.1.3post2->icedata) (3.1.0)\n"
          ],
          "name": "stdout"
        }
      ]
    },
    {
      "cell_type": "code",
      "metadata": {
        "id": "jGaD1jw0H9Tj",
        "colab_type": "code",
        "colab": {
          "base_uri": "https://localhost:8080/",
          "height": 689
        },
        "outputId": "8d332f96-7ab7-45d8-fe4c-0c534e12f1fb"
      },
      "source": [
        "!pip install gradio"
      ],
      "execution_count": 3,
      "outputs": [
        {
          "output_type": "stream",
          "text": [
            "Requirement already satisfied: gradio in /usr/local/lib/python3.6/dist-packages (1.1.9)\n",
            "Requirement already satisfied: analytics-python in /usr/local/lib/python3.6/dist-packages (from gradio) (1.2.9)\n",
            "Requirement already satisfied: paramiko in /usr/local/lib/python3.6/dist-packages (from gradio) (2.7.2)\n",
            "Requirement already satisfied: IPython in /usr/local/lib/python3.6/dist-packages (from gradio) (5.5.0)\n",
            "Requirement already satisfied: requests in /usr/local/lib/python3.6/dist-packages (from gradio) (2.24.0)\n",
            "Requirement already satisfied: scikit-image in /usr/local/lib/python3.6/dist-packages (from gradio) (0.16.2)\n",
            "Requirement already satisfied: pandas in /usr/local/lib/python3.6/dist-packages (from gradio) (1.0.5)\n",
            "Requirement already satisfied: scipy in /usr/local/lib/python3.6/dist-packages (from gradio) (1.4.1)\n",
            "Requirement already satisfied: numpy in /usr/local/lib/python3.6/dist-packages (from gradio) (1.18.5)\n",
            "Requirement already satisfied: python-dateutil>2.1 in /usr/local/lib/python3.6/dist-packages (from analytics-python->gradio) (2.8.1)\n",
            "Requirement already satisfied: six>=1.5 in /usr/local/lib/python3.6/dist-packages (from analytics-python->gradio) (1.15.0)\n",
            "Requirement already satisfied: bcrypt>=3.1.3 in /usr/local/lib/python3.6/dist-packages (from paramiko->gradio) (3.2.0)\n",
            "Requirement already satisfied: cryptography>=2.5 in /usr/local/lib/python3.6/dist-packages (from paramiko->gradio) (3.1.1)\n",
            "Requirement already satisfied: pynacl>=1.0.1 in /usr/local/lib/python3.6/dist-packages (from paramiko->gradio) (1.4.0)\n",
            "Requirement already satisfied: pexpect; sys_platform != \"win32\" in /usr/local/lib/python3.6/dist-packages (from IPython->gradio) (4.8.0)\n",
            "Requirement already satisfied: traitlets>=4.2 in /usr/local/lib/python3.6/dist-packages (from IPython->gradio) (4.3.3)\n",
            "Requirement already satisfied: pygments in /usr/local/lib/python3.6/dist-packages (from IPython->gradio) (2.6.1)\n",
            "Requirement already satisfied: decorator in /usr/local/lib/python3.6/dist-packages (from IPython->gradio) (4.4.2)\n",
            "Requirement already satisfied: setuptools>=18.5 in /usr/local/lib/python3.6/dist-packages (from IPython->gradio) (50.3.0)\n",
            "Requirement already satisfied: prompt-toolkit<2.0.0,>=1.0.4 in /usr/local/lib/python3.6/dist-packages (from IPython->gradio) (1.0.18)\n",
            "Requirement already satisfied: pickleshare in /usr/local/lib/python3.6/dist-packages (from IPython->gradio) (0.7.5)\n",
            "Requirement already satisfied: simplegeneric>0.8 in /usr/local/lib/python3.6/dist-packages (from IPython->gradio) (0.8.1)\n",
            "Requirement already satisfied: certifi>=2017.4.17 in /usr/local/lib/python3.6/dist-packages (from requests->gradio) (2020.6.20)\n",
            "Requirement already satisfied: urllib3!=1.25.0,!=1.25.1,<1.26,>=1.21.1 in /usr/local/lib/python3.6/dist-packages (from requests->gradio) (1.24.3)\n",
            "Requirement already satisfied: idna<3,>=2.5 in /usr/local/lib/python3.6/dist-packages (from requests->gradio) (2.10)\n",
            "Requirement already satisfied: chardet<4,>=3.0.2 in /usr/local/lib/python3.6/dist-packages (from requests->gradio) (3.0.4)\n",
            "Requirement already satisfied: PyWavelets>=0.4.0 in /usr/local/lib/python3.6/dist-packages (from scikit-image->gradio) (1.1.1)\n",
            "Requirement already satisfied: imageio>=2.3.0 in /usr/local/lib/python3.6/dist-packages (from scikit-image->gradio) (2.4.1)\n",
            "Requirement already satisfied: pillow>=4.3.0 in /usr/local/lib/python3.6/dist-packages (from scikit-image->gradio) (7.0.0)\n",
            "Requirement already satisfied: matplotlib!=3.0.0,>=2.0.0 in /usr/local/lib/python3.6/dist-packages (from scikit-image->gradio) (3.3.2)\n",
            "Requirement already satisfied: networkx>=2.0 in /usr/local/lib/python3.6/dist-packages (from scikit-image->gradio) (2.5)\n",
            "Requirement already satisfied: pytz>=2017.2 in /usr/local/lib/python3.6/dist-packages (from pandas->gradio) (2018.9)\n",
            "Requirement already satisfied: cffi>=1.1 in /usr/local/lib/python3.6/dist-packages (from bcrypt>=3.1.3->paramiko->gradio) (1.14.2)\n",
            "Requirement already satisfied: ptyprocess>=0.5 in /usr/local/lib/python3.6/dist-packages (from pexpect; sys_platform != \"win32\"->IPython->gradio) (0.6.0)\n",
            "Requirement already satisfied: ipython-genutils in /usr/local/lib/python3.6/dist-packages (from traitlets>=4.2->IPython->gradio) (0.2.0)\n",
            "Requirement already satisfied: wcwidth in /usr/local/lib/python3.6/dist-packages (from prompt-toolkit<2.0.0,>=1.0.4->IPython->gradio) (0.2.5)\n",
            "Requirement already satisfied: cycler>=0.10 in /usr/local/lib/python3.6/dist-packages (from matplotlib!=3.0.0,>=2.0.0->scikit-image->gradio) (0.10.0)\n",
            "Requirement already satisfied: kiwisolver>=1.0.1 in /usr/local/lib/python3.6/dist-packages (from matplotlib!=3.0.0,>=2.0.0->scikit-image->gradio) (1.2.0)\n",
            "Requirement already satisfied: pyparsing!=2.0.4,!=2.1.2,!=2.1.6,>=2.0.3 in /usr/local/lib/python3.6/dist-packages (from matplotlib!=3.0.0,>=2.0.0->scikit-image->gradio) (2.4.7)\n",
            "Requirement already satisfied: pycparser in /usr/local/lib/python3.6/dist-packages (from cffi>=1.1->bcrypt>=3.1.3->paramiko->gradio) (2.20)\n"
          ],
          "name": "stdout"
        }
      ]
    },
    {
      "cell_type": "markdown",
      "metadata": {
        "id": "RNVETtzKn-cU",
        "colab_type": "text"
      },
      "source": [
        "## Imports"
      ]
    },
    {
      "cell_type": "code",
      "metadata": {
        "id": "2PDsjGDbHBZY",
        "colab_type": "code",
        "colab": {}
      },
      "source": [
        "from icevision.all import *\n",
        "import icedata\n",
        "import PIL, requests\n",
        "import torch\n",
        "from torchvision import transforms\n",
        "import gradio as gr"
      ],
      "execution_count": 4,
      "outputs": []
    },
    {
      "cell_type": "markdown",
      "metadata": {
        "id": "kAlNFd5JoAm8",
        "colab_type": "text"
      },
      "source": [
        "## Loading trained model"
      ]
    },
    {
      "cell_type": "code",
      "metadata": {
        "id": "oWqa2mF1Me7z",
        "colab_type": "code",
        "colab": {}
      },
      "source": [
        "class_map = icedata.coco.class_map()\n",
        "model = icedata.coco.trained_models.faster_rcnn_resnet50_fpn()"
      ],
      "execution_count": 5,
      "outputs": []
    },
    {
      "cell_type": "markdown",
      "metadata": {
        "id": "dtUlW1X4oL73",
        "colab_type": "text"
      },
      "source": [
        "## Defininig the predict() method\n"
      ]
    },
    {
      "cell_type": "code",
      "metadata": {
        "id": "jIzikSZLHBZo",
        "colab_type": "code",
        "colab": {}
      },
      "source": [
        "def predict(\n",
        "    model, image, detection_threshold: float = 0.5, mask_threshold: float = 0.5\n",
        "):\n",
        "    tfms_ = tfms.A.Adapter([tfms.A.Normalize()])\n",
        "    # Whenever you have images in memory (numpy arrays) you can use `Dataset.from_images`\n",
        "    infer_ds = Dataset.from_images([image], tfms_)\n",
        "\n",
        "    batch, samples = faster_rcnn.build_infer_batch(infer_ds)\n",
        "    preds = faster_rcnn.predict(\n",
        "        model=model,\n",
        "        batch=batch,\n",
        "        detection_threshold=detection_threshold\n",
        "    )\n",
        "    return samples[0][\"img\"], preds[0]"
      ],
      "execution_count": 6,
      "outputs": []
    },
    {
      "cell_type": "markdown",
      "metadata": {
        "id": "zWqaACGOoUCM",
        "colab_type": "text"
      },
      "source": [
        "## Defining the `show_preds` method: called by `gr.Interface(fn=show_preds, ...)`"
      ]
    },
    {
      "cell_type": "code",
      "metadata": {
        "id": "qJHmeIhwoSS5",
        "colab_type": "code",
        "colab": {}
      },
      "source": [
        "def show_preds(input_image, display_list, detection_threshold):\n",
        "    display_label = (\"Label\" in display_list)\n",
        "    display_bbox = (\"BBox\" in display_list)\n",
        "\n",
        "    if detection_threshold==0: detection_threshold=0.5\n",
        "    \n",
        "    img, pred = predict(model=model, image=input_image, detection_threshold=detection_threshold)\n",
        "    # print(pred)\n",
        "    img = draw_pred(img=img, pred=pred, class_map=class_map, denormalize_fn=denormalize_imagenet, display_label=display_label, display_bbox=display_bbox)\n",
        "    img = PIL.Image.fromarray(img)\n",
        "    # print(\"Output Image: \", img.size, type(img))\n",
        "    return img"
      ],
      "execution_count": 7,
      "outputs": []
    },
    {
      "cell_type": "markdown",
      "metadata": {
        "id": "yRvdtz40oim7",
        "colab_type": "text"
      },
      "source": [
        "## Gradio User Interface"
      ]
    },
    {
      "cell_type": "code",
      "metadata": {
        "id": "_tGwcfYUHBZr",
        "colab_type": "code",
        "colab": {
          "base_uri": "https://localhost:8080/",
          "height": 67
        },
        "outputId": "638b8519-60c4-4b99-f055-fa81f4f7958a"
      },
      "source": [
        "display_chkbox = gr.inputs.CheckboxGroup([\"Label\", \"BBox\"], label=\"Display\")\n",
        "detection_threshold_slider = gr.inputs.Slider(minimum=0, maximum=1, step=0.1, default=0.5, label=\"Detection Threshold\")\n",
        "\n",
        "outputs = gr.outputs.Image(type=\"pil\")\n",
        "\n",
        "gr_interface = gr.Interface(fn=show_preds, inputs=[\"image\", display_chkbox,  detection_threshold_slider], outputs=outputs, title='IceApp - COCO')\n",
        "gr_interface.launch(inline=False, share=True, debug=True)\n"
      ],
      "execution_count": null,
      "outputs": [
        {
          "output_type": "stream",
          "text": [
            "Colab notebook detected. This cell will run indefinitely so that you can see errors and logs. To turn off, set debug=False in launch().\n",
            "This share link will expire in 6 hours. If you need a permanent link, email support@gradio.app\n",
            "Running on External URL: https://39710.gradio.app\n"
          ],
          "name": "stdout"
        }
      ]
    },
    {
      "cell_type": "code",
      "metadata": {
        "id": "NoW-55FRlkgv",
        "colab_type": "code",
        "colab": {}
      },
      "source": [
        ""
      ],
      "execution_count": null,
      "outputs": []
    }
  ]
}