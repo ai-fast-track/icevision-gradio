{
  "nbformat": 4,
  "nbformat_minor": 0,
  "metadata": {
    "orig_nbformat": 2,
    "colab": {
      "name": "IceApp_coco.ipynb",
      "provenance": [],
      "collapsed_sections": [],
      "include_colab_link": true
    },
    "kernelspec": {
      "name": "python3",
      "display_name": "Python 3"
    },
    "widgets": {
      "application/vnd.jupyter.widget-state+json": {
        "6d72f1b84d3f4272913e22b704d7e20f": {
          "model_module": "@jupyter-widgets/controls",
          "model_name": "HBoxModel",
          "state": {
            "_view_name": "HBoxView",
            "_dom_classes": [],
            "_model_name": "HBoxModel",
            "_view_module": "@jupyter-widgets/controls",
            "_model_module_version": "1.5.0",
            "_view_count": null,
            "_view_module_version": "1.5.0",
            "box_style": "",
            "layout": "IPY_MODEL_04013eba204640ecabc3d058557f0013",
            "_model_module": "@jupyter-widgets/controls",
            "children": [
              "IPY_MODEL_e2fd17caf6d049c89667a0b39152c01e",
              "IPY_MODEL_c91921ec50f54f3d92f2c9d5a6645c5e",
              "IPY_MODEL_537603fc1a0d48e2b4fc9fd9d1c942da"
            ]
          }
        },
        "04013eba204640ecabc3d058557f0013": {
          "model_module": "@jupyter-widgets/base",
          "model_name": "LayoutModel",
          "state": {
            "_view_name": "LayoutView",
            "grid_template_rows": null,
            "right": null,
            "justify_content": null,
            "_view_module": "@jupyter-widgets/base",
            "overflow": null,
            "_model_module_version": "1.2.0",
            "_view_count": null,
            "flex_flow": null,
            "width": null,
            "min_width": null,
            "border": null,
            "align_items": null,
            "bottom": null,
            "_model_module": "@jupyter-widgets/base",
            "top": null,
            "grid_column": null,
            "overflow_y": null,
            "overflow_x": null,
            "grid_auto_flow": null,
            "grid_area": null,
            "grid_template_columns": null,
            "flex": null,
            "_model_name": "LayoutModel",
            "justify_items": null,
            "grid_row": null,
            "max_height": null,
            "align_content": null,
            "visibility": null,
            "align_self": null,
            "height": null,
            "min_height": null,
            "padding": null,
            "grid_auto_rows": null,
            "grid_gap": null,
            "max_width": null,
            "order": null,
            "_view_module_version": "1.2.0",
            "grid_template_areas": null,
            "object_position": null,
            "object_fit": null,
            "grid_auto_columns": null,
            "margin": null,
            "display": null,
            "left": null
          }
        },
        "e2fd17caf6d049c89667a0b39152c01e": {
          "model_module": "@jupyter-widgets/controls",
          "model_name": "HTMLModel",
          "state": {
            "_view_name": "HTMLView",
            "style": "IPY_MODEL_8afcb99dfb724a30842e0e6ff97156a5",
            "_dom_classes": [],
            "description": "",
            "_model_name": "HTMLModel",
            "placeholder": "​",
            "_view_module": "@jupyter-widgets/controls",
            "_model_module_version": "1.5.0",
            "value": "100%",
            "_view_count": null,
            "_view_module_version": "1.5.0",
            "description_tooltip": null,
            "_model_module": "@jupyter-widgets/controls",
            "layout": "IPY_MODEL_866acd7accc24af085b3c4919acff1e4"
          }
        },
        "c91921ec50f54f3d92f2c9d5a6645c5e": {
          "model_module": "@jupyter-widgets/controls",
          "model_name": "FloatProgressModel",
          "state": {
            "_view_name": "ProgressView",
            "style": "IPY_MODEL_d3460047d2944fdb988c1e6628ecc064",
            "_dom_classes": [],
            "description": "",
            "_model_name": "FloatProgressModel",
            "bar_style": "success",
            "max": 167502836,
            "_view_module": "@jupyter-widgets/controls",
            "_model_module_version": "1.5.0",
            "value": 167502836,
            "_view_count": null,
            "_view_module_version": "1.5.0",
            "orientation": "horizontal",
            "min": 0,
            "description_tooltip": null,
            "_model_module": "@jupyter-widgets/controls",
            "layout": "IPY_MODEL_60603c14703348db8f3cb73c4cfa07ff"
          }
        },
        "537603fc1a0d48e2b4fc9fd9d1c942da": {
          "model_module": "@jupyter-widgets/controls",
          "model_name": "HTMLModel",
          "state": {
            "_view_name": "HTMLView",
            "style": "IPY_MODEL_a875ea585f544d468cf5429ca661e005",
            "_dom_classes": [],
            "description": "",
            "_model_name": "HTMLModel",
            "placeholder": "​",
            "_view_module": "@jupyter-widgets/controls",
            "_model_module_version": "1.5.0",
            "value": " 160M/160M [00:00&lt;00:00, 183MB/s]",
            "_view_count": null,
            "_view_module_version": "1.5.0",
            "description_tooltip": null,
            "_model_module": "@jupyter-widgets/controls",
            "layout": "IPY_MODEL_e14735a6628846a1a9f377d7c0d98f4d"
          }
        },
        "8afcb99dfb724a30842e0e6ff97156a5": {
          "model_module": "@jupyter-widgets/controls",
          "model_name": "DescriptionStyleModel",
          "state": {
            "_view_name": "StyleView",
            "_model_name": "DescriptionStyleModel",
            "description_width": "",
            "_view_module": "@jupyter-widgets/base",
            "_model_module_version": "1.5.0",
            "_view_count": null,
            "_view_module_version": "1.2.0",
            "_model_module": "@jupyter-widgets/controls"
          }
        },
        "866acd7accc24af085b3c4919acff1e4": {
          "model_module": "@jupyter-widgets/base",
          "model_name": "LayoutModel",
          "state": {
            "_view_name": "LayoutView",
            "grid_template_rows": null,
            "right": null,
            "justify_content": null,
            "_view_module": "@jupyter-widgets/base",
            "overflow": null,
            "_model_module_version": "1.2.0",
            "_view_count": null,
            "flex_flow": null,
            "width": null,
            "min_width": null,
            "border": null,
            "align_items": null,
            "bottom": null,
            "_model_module": "@jupyter-widgets/base",
            "top": null,
            "grid_column": null,
            "overflow_y": null,
            "overflow_x": null,
            "grid_auto_flow": null,
            "grid_area": null,
            "grid_template_columns": null,
            "flex": null,
            "_model_name": "LayoutModel",
            "justify_items": null,
            "grid_row": null,
            "max_height": null,
            "align_content": null,
            "visibility": null,
            "align_self": null,
            "height": null,
            "min_height": null,
            "padding": null,
            "grid_auto_rows": null,
            "grid_gap": null,
            "max_width": null,
            "order": null,
            "_view_module_version": "1.2.0",
            "grid_template_areas": null,
            "object_position": null,
            "object_fit": null,
            "grid_auto_columns": null,
            "margin": null,
            "display": null,
            "left": null
          }
        },
        "d3460047d2944fdb988c1e6628ecc064": {
          "model_module": "@jupyter-widgets/controls",
          "model_name": "ProgressStyleModel",
          "state": {
            "_view_name": "StyleView",
            "_model_name": "ProgressStyleModel",
            "description_width": "",
            "_view_module": "@jupyter-widgets/base",
            "_model_module_version": "1.5.0",
            "_view_count": null,
            "_view_module_version": "1.2.0",
            "bar_color": null,
            "_model_module": "@jupyter-widgets/controls"
          }
        },
        "60603c14703348db8f3cb73c4cfa07ff": {
          "model_module": "@jupyter-widgets/base",
          "model_name": "LayoutModel",
          "state": {
            "_view_name": "LayoutView",
            "grid_template_rows": null,
            "right": null,
            "justify_content": null,
            "_view_module": "@jupyter-widgets/base",
            "overflow": null,
            "_model_module_version": "1.2.0",
            "_view_count": null,
            "flex_flow": null,
            "width": null,
            "min_width": null,
            "border": null,
            "align_items": null,
            "bottom": null,
            "_model_module": "@jupyter-widgets/base",
            "top": null,
            "grid_column": null,
            "overflow_y": null,
            "overflow_x": null,
            "grid_auto_flow": null,
            "grid_area": null,
            "grid_template_columns": null,
            "flex": null,
            "_model_name": "LayoutModel",
            "justify_items": null,
            "grid_row": null,
            "max_height": null,
            "align_content": null,
            "visibility": null,
            "align_self": null,
            "height": null,
            "min_height": null,
            "padding": null,
            "grid_auto_rows": null,
            "grid_gap": null,
            "max_width": null,
            "order": null,
            "_view_module_version": "1.2.0",
            "grid_template_areas": null,
            "object_position": null,
            "object_fit": null,
            "grid_auto_columns": null,
            "margin": null,
            "display": null,
            "left": null
          }
        },
        "a875ea585f544d468cf5429ca661e005": {
          "model_module": "@jupyter-widgets/controls",
          "model_name": "DescriptionStyleModel",
          "state": {
            "_view_name": "StyleView",
            "_model_name": "DescriptionStyleModel",
            "description_width": "",
            "_view_module": "@jupyter-widgets/base",
            "_model_module_version": "1.5.0",
            "_view_count": null,
            "_view_module_version": "1.2.0",
            "_model_module": "@jupyter-widgets/controls"
          }
        },
        "e14735a6628846a1a9f377d7c0d98f4d": {
          "model_module": "@jupyter-widgets/base",
          "model_name": "LayoutModel",
          "state": {
            "_view_name": "LayoutView",
            "grid_template_rows": null,
            "right": null,
            "justify_content": null,
            "_view_module": "@jupyter-widgets/base",
            "overflow": null,
            "_model_module_version": "1.2.0",
            "_view_count": null,
            "flex_flow": null,
            "width": null,
            "min_width": null,
            "border": null,
            "align_items": null,
            "bottom": null,
            "_model_module": "@jupyter-widgets/base",
            "top": null,
            "grid_column": null,
            "overflow_y": null,
            "overflow_x": null,
            "grid_auto_flow": null,
            "grid_area": null,
            "grid_template_columns": null,
            "flex": null,
            "_model_name": "LayoutModel",
            "justify_items": null,
            "grid_row": null,
            "max_height": null,
            "align_content": null,
            "visibility": null,
            "align_self": null,
            "height": null,
            "min_height": null,
            "padding": null,
            "grid_auto_rows": null,
            "grid_gap": null,
            "max_width": null,
            "order": null,
            "_view_module_version": "1.2.0",
            "grid_template_areas": null,
            "object_position": null,
            "object_fit": null,
            "grid_auto_columns": null,
            "margin": null,
            "display": null,
            "left": null
          }
        }
      }
    }
  },
  "cells": [
    {
      "cell_type": "code",
      "metadata": {
        "id": "NoW-55FRlkgv"
      },
      "source": [],
      "execution_count": null,
      "outputs": []
    },
    {
      "cell_type": "markdown",
      "metadata": {
        "id": "view-in-github",
        "colab_type": "text"
      },
      "source": [
        "<a href=\"https://colab.research.google.com/github/airctic/icevision-gradio/blob/master/IceApp_coco.ipynb\" target=\"_parent\"><img src=\"https://colab.research.google.com/assets/colab-badge.svg\" alt=\"Open In Colab\"/></a>"
      ]
    },
    {
      "cell_type": "markdown",
      "metadata": {
        "id": "iHu4AkVlnqGC"
      },
      "source": [
        "# IceVision Deployment App Example\n",
        "[IceVision](https://github.com/airctic/IceVision) is:\n",
        "- an Object-Detection Framework that connects to different libraries/frameworks such as Fastai, Pytorch Lightning, and Pytorch with more to come.\n",
        "- Features a Unified Data API with out-of-the-box support for common annotation formats (COCO, VOC, etc.)\n",
        "- Provides flexible model implementations with pluggable backbones"
      ]
    },
    {
      "cell_type": "markdown",
      "metadata": {
        "id": "xd_v-Xlzn3fC"
      },
      "source": [
        "## Installing packages"
      ]
    },
    {
      "cell_type": "code",
      "metadata": {
        "id": "xywzI5XVjI2S"
      },
      "source": [
        "!pip install icevision[inference]"
      ],
      "execution_count": null,
      "outputs": []
    },
    {
      "cell_type": "code",
      "metadata": {
        "id": "2l2kdIv3x0dd"
      },
      "source": [
        "!pip install icedata"
      ],
      "execution_count": null,
      "outputs": []
    },
    {
      "cell_type": "code",
      "metadata": {
        "id": "jGaD1jw0H9Tj"
      },
      "source": [
        "\n",
        "!pip install gradio -qqq"
      ],
      "execution_count": null,
      "outputs": []
    },
    {
      "cell_type": "code",
      "execution_count": 2,
      "metadata": {},
      "outputs": [],
      "source": [
        "!pip uninstall Flask -y"
      ]
    },
    {
      "cell_type": "code",
      "execution_count": null,
      "metadata": {},
      "outputs": [],
      "source": []
    },
    {
      "cell_type": "markdown",
      "metadata": {
        "id": "RNVETtzKn-cU"
      },
      "source": [
        "## Imports"
      ]
    },
    {
      "cell_type": "code",
      "metadata": {
        "id": "2PDsjGDbHBZY"
      },
      "source": [
        "from icevision.all import *\n",
        "import icedata\n",
        "import PIL, requests\n",
        "import torch\n",
        "from torchvision import transforms\n",
        "import gradio as gr"
      ],
      "execution_count": null,
      "outputs": []
    },
    {
      "cell_type": "markdown",
      "metadata": {
        "id": "kAlNFd5JoAm8"
      },
      "source": [
        "## Loading trained model"
      ]
    },
    {
      "cell_type": "code",
      "metadata": {
        "id": "oWqa2mF1Me7z",
        "colab": {
          "base_uri": "https://localhost:8080/",
          "height": 82,
          "referenced_widgets": [
            "6d72f1b84d3f4272913e22b704d7e20f",
            "04013eba204640ecabc3d058557f0013",
            "e2fd17caf6d049c89667a0b39152c01e",
            "c91921ec50f54f3d92f2c9d5a6645c5e",
            "537603fc1a0d48e2b4fc9fd9d1c942da",
            "8afcb99dfb724a30842e0e6ff97156a5",
            "866acd7accc24af085b3c4919acff1e4",
            "d3460047d2944fdb988c1e6628ecc064",
            "60603c14703348db8f3cb73c4cfa07ff",
            "a875ea585f544d468cf5429ca661e005",
            "e14735a6628846a1a9f377d7c0d98f4d"
          ]
        },
        "outputId": "9d524266-d00b-434a-dff7-23a283921582"
      },
      "source": [
        "class_map = icedata.coco.class_map()\n",
        "model = icedata.coco.trained_models.faster_rcnn_resnet50_fpn()"
      ],
      "execution_count": null,
      "outputs": [
        {
          "output_type": "stream",
          "text": [
            "Downloading: \"https://download.pytorch.org/models/fasterrcnn_resnet50_fpn_coco-258fb6c6.pth\" to /root/.cache/torch/hub/checkpoints/fasterrcnn_resnet50_fpn_coco-258fb6c6.pth\n"
          ],
          "name": "stderr"
        },
        {
          "output_type": "display_data",
          "data": {
            "application/vnd.jupyter.widget-view+json": {
              "model_id": "6d72f1b84d3f4272913e22b704d7e20f",
              "version_minor": 0,
              "version_major": 2
            },
            "text/plain": [
              "HBox(children=(HTML(value=''), FloatProgress(value=0.0, max=167502836.0), HTML(value='')))"
            ]
          },
          "metadata": {
            "tags": []
          }
        },
        {
          "output_type": "stream",
          "text": [
            "\n"
          ],
          "name": "stdout"
        }
      ]
    },
    {
      "cell_type": "markdown",
      "metadata": {
        "id": "dtUlW1X4oL73"
      },
      "source": [
        "## Defininig the predict() method\n"
      ]
    },
    {
      "cell_type": "code",
      "metadata": {
        "id": "jIzikSZLHBZo"
      },
      "source": [
        "def predict(\n",
        "    model, image, detection_threshold: float = 0.5, mask_threshold: float = 0.5\n",
        "):\n",
        "    tfms_ = tfms.A.Adapter([tfms.A.Normalize()])\n",
        "    # Whenever you have images in memory (numpy arrays) you can use `Dataset.from_images`\n",
        "    infer_ds = Dataset.from_images([image], tfms_)\n",
        "\n",
        "    batch, samples = faster_rcnn.build_infer_batch(infer_ds)\n",
        "    preds = faster_rcnn.predict(\n",
        "        model=model,\n",
        "        batch=batch,\n",
        "        detection_threshold=detection_threshold\n",
        "    )\n",
        "    return samples[0][\"img\"], preds[0]"
      ],
      "execution_count": null,
      "outputs": []
    },
    {
      "cell_type": "markdown",
      "metadata": {
        "id": "zWqaACGOoUCM"
      },
      "source": [
        "## Defining the `show_preds` method: called by `gr.Interface(fn=show_preds, ...)`"
      ]
    },
    {
      "cell_type": "code",
      "metadata": {
        "id": "qJHmeIhwoSS5"
      },
      "source": [
        "def show_preds(input_image, display_list, detection_threshold):\n",
        "    display_label = (\"Label\" in display_list)\n",
        "    display_bbox = (\"BBox\" in display_list)\n",
        "\n",
        "    if detection_threshold==0: detection_threshold=0.5\n",
        "    \n",
        "    img, pred = predict(model=model, image=input_image, detection_threshold=detection_threshold)\n",
        "    # print(pred)\n",
        "    img = draw_pred(img=img, pred=pred, class_map=class_map, denormalize_fn=denormalize_imagenet, display_label=display_label, display_bbox=display_bbox)\n",
        "    img = PIL.Image.fromarray(img)\n",
        "    # print(\"Output Image: \", img.size, type(img))\n",
        "    return img"
      ],
      "execution_count": null,
      "outputs": []
    },
    {
      "cell_type": "markdown",
      "metadata": {
        "id": "yRvdtz40oim7"
      },
      "source": [
        "## Gradio User Interface\n",
        "You have 3 options to feed the model (by commenting/uncommenting the code here below):\n",
        "1- Load an image from local drive\n",
        "2- Grab an image from the webcam\n",
        "3- Continuous image stream from the webcam\n",
        "\n",
        "> Note: You need to check the Label and the BBox checkboxes, and set the Detection Thereshold (e.g. 0.5)"
      ]
    },
    {
      "cell_type": "code",
      "metadata": {
        "id": "_tGwcfYUHBZr"
      },
      "source": [
        "display_chkbox = gr.inputs.CheckboxGroup([\"Label\", \"BBox\"], label=\"Display\")\n",
        "detection_threshold_slider = gr.inputs.Slider(minimum=0, maximum=1, step=0.1, default=0.5, label=\"Detection Threshold\")\n",
        "\n",
        "outputs = gr.outputs.Image(type=\"pil\")\n",
        "\n",
        "# Option 1: Get an image from local drive\n",
        "# gr_interface = gr.Interface(fn=show_preds, inputs=[\"image\", display_chkbox,  detection_threshold_slider], outputs=outputs, title='IceApp - COCO')\n",
        "\n",
        "#  Option 2: Grab an image from a webcam\n",
        "#gr_interface = gr.Interface(fn=show_preds, inputs=[\"webcam\", display_chkbox,  detection_threshold_slider], outputs=outputs, title='IceApp - COCO', live=True)\n",
        "\n",
        "#  Option 3: Continuous image stream from the webcam\n",
        "gr_interface = gr.Interface(fn=show_preds, inputs=[\"webcam\", display_chkbox,  detection_threshold_slider], outputs=outputs, title='IceApp - COCO', live=True)\n",
        "\n",
        "gr_interface.launch(inline=False, share=True, debug=True)\n"
      ],
      "execution_count": null,
      "outputs": []
    }
  ]
}